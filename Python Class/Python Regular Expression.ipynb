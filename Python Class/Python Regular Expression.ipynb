{
 "cells": [
  {
   "cell_type": "markdown",
   "id": "19b408bb",
   "metadata": {},
   "source": [
    "# 22/02/2024"
   ]
  },
  {
   "cell_type": "markdown",
   "id": "e50b2743",
   "metadata": {},
   "source": [
    "# Regular Expression"
   ]
  },
  {
   "cell_type": "markdown",
   "id": "9b126085",
   "metadata": {},
   "source": [
    "#### The re module offers a set of functions that allows us to search a string for a match:"
   ]
  },
  {
   "cell_type": "code",
   "execution_count": 2,
   "id": "aa4326fa",
   "metadata": {},
   "outputs": [
    {
     "data": {
      "text/plain": [
       "<re.Match object; span=(3, 6), match='123'>"
      ]
     },
     "execution_count": 2,
     "metadata": {},
     "output_type": "execute_result"
    }
   ],
   "source": [
    "import re  # re=regular expression\n",
    "\n",
    "s='foo123bar'\n",
    "re.search('123',s)   \n",
    "\n",
    "# in result (index is shown ,here 3 is the index of 1 and 6 is the index of b, which means 3 to 6 index of 1 to 3)"
   ]
  },
  {
   "cell_type": "code",
   "execution_count": 2,
   "id": "9b7b26e7",
   "metadata": {},
   "outputs": [
    {
     "name": "stdout",
     "output_type": "stream",
     "text": [
      "match!\n"
     ]
    }
   ],
   "source": [
    "if re.search('123',s):\n",
    "    print(\"match!\")\n",
    "else:\n",
    "    print(\"Not a match!\")"
   ]
  },
  {
   "cell_type": "markdown",
   "id": "e1503ddf",
   "metadata": {},
   "source": [
    "# Python Regex Metacharacters"
   ]
  },
  {
   "cell_type": "code",
   "execution_count": 4,
   "id": "a6b88130",
   "metadata": {},
   "outputs": [
    {
     "name": "stdout",
     "output_type": "stream",
     "text": [
      "match!\n"
     ]
    }
   ],
   "source": [
    "s='foo191bar123'\n",
    "if re.search('[0-9][0-9][0-9]',s):  # [0-9] means to check whether there is number match between 0 to 9\n",
    "    print(\"match!\")\n",
    "else:\n",
    "    print(\"Not a match!\")"
   ]
  },
  {
   "cell_type": "code",
   "execution_count": 3,
   "id": "10ca60cb",
   "metadata": {},
   "outputs": [
    {
     "name": "stdout",
     "output_type": "stream",
     "text": [
      "match!\n"
     ]
    }
   ],
   "source": [
    "s='foo1912bar123'\n",
    "if re.search('[0-9][0-9][0-9][0-9]',s):\n",
    "    print(\"match!\")\n",
    "else:\n",
    "    print(\"Not a match!\")"
   ]
  },
  {
   "cell_type": "code",
   "execution_count": 6,
   "id": "5f0f7f36",
   "metadata": {},
   "outputs": [
    {
     "name": "stdout",
     "output_type": "stream",
     "text": [
      "<re.Match object; span=(3, 4), match=' '>\n",
      "The first white-space character is located in position: 3\n"
     ]
    }
   ],
   "source": [
    "# search for the first white-space character in the string:\n",
    "\n",
    "txt=\"The rain in spain\"\n",
    "x=re.search(\"\\s\",txt)\n",
    "print(x)\n",
    "\n",
    "print(\"The first white-space character is located in position:\",x.start())"
   ]
  },
  {
   "cell_type": "code",
   "execution_count": 7,
   "id": "d7a8361e",
   "metadata": {},
   "outputs": [
    {
     "name": "stdout",
     "output_type": "stream",
     "text": [
      "None\n"
     ]
    }
   ],
   "source": [
    "txt=\"The rain i spain\"\n",
    "x=re.search(\"Portugal\",txt)\n",
    "print(x)"
   ]
  },
  {
   "cell_type": "code",
   "execution_count": 8,
   "id": "d68d035c",
   "metadata": {},
   "outputs": [
    {
     "name": "stdout",
     "output_type": "stream",
     "text": [
      "<re.Match object; span=(4, 8), match='rain'>\n"
     ]
    }
   ],
   "source": [
    "txt=\"The rain i spain\"\n",
    "x=re.search(\"..in\",txt)\n",
    "print(x)"
   ]
  },
  {
   "cell_type": "code",
   "execution_count": 9,
   "id": "e6dda55b",
   "metadata": {},
   "outputs": [
    {
     "name": "stdout",
     "output_type": "stream",
     "text": [
      "searchobj.ground():  Cats are smarter than dogs\n",
      "searchobj.ground(1):  Cats\n",
      "searchobj.ground(2):  smarter\n"
     ]
    }
   ],
   "source": [
    "line=\"Cats are smarter than dogs\"\n",
    "\n",
    "searchobj=re.search('(.*) are (.*?) .*', line, re.M|re.I)\n",
    "\n",
    "if searchobj:\n",
    "    print(\"searchobj.ground(): \",searchobj.group())\n",
    "    print(\"searchobj.ground(1): \",searchobj.group(1))\n",
    "    print(\"searchobj.ground(2): \",searchobj.group(2))\n",
    "else:\n",
    "    print(\"Nothing found !!\")"
   ]
  },
  {
   "cell_type": "code",
   "execution_count": 12,
   "id": "7bd72dc7",
   "metadata": {},
   "outputs": [
    {
     "name": "stdout",
     "output_type": "stream",
     "text": [
      "Match is found\n"
     ]
    }
   ],
   "source": [
    "# Write a regular expression that matches any sequence of 3 letters , followed by 4 numbers(e.g.\"ABC-1234\").\n",
    "\n",
    "text=\"ABC-1234\"\n",
    "#pattern=\"\\w{3}-\\d{4}\"\n",
    "pattern = \"[A-Za-z]{3}-[0-9]{4}\"\n",
    "\n",
    "if re.search(pattern,text):\n",
    "    print(\"Match is found\")\n",
    "else:\n",
    "    print(\"No match\")"
   ]
  },
  {
   "cell_type": "markdown",
   "id": "284683e4",
   "metadata": {},
   "source": [
    "# The match() Function\n",
    "\n",
    "This function attempts to match RE pattern to string with optional Flags.\n",
    "\n",
    "re.match(pattern,string, flags=0)"
   ]
  },
  {
   "cell_type": "code",
   "execution_count": 13,
   "id": "fa26dd5b",
   "metadata": {},
   "outputs": [
    {
     "name": "stdout",
     "output_type": "stream",
     "text": [
      "Match!\n"
     ]
    }
   ],
   "source": [
    "import re\n",
    "\n",
    "pattern =\"Cookie\"\n",
    "sequence =\"Cookie is tasty\"\n",
    "if re.match(pattern,sequence):\n",
    "    print(\"Match!\")\n",
    "else:\n",
    "    print(\"Not a match!\")"
   ]
  },
  {
   "cell_type": "code",
   "execution_count": 15,
   "id": "7aab118d",
   "metadata": {},
   "outputs": [
    {
     "name": "stdout",
     "output_type": "stream",
     "text": [
      "Search successful.\n"
     ]
    }
   ],
   "source": [
    "pattern='^a...s$'\n",
    "test_string='abyss'\n",
    "result=re.match(pattern,test_string)\n",
    "if result:\n",
    "    print(\"Search successful.\")\n",
    "else:\n",
    "    print(\"Search unsuccessful.\")"
   ]
  },
  {
   "cell_type": "markdown",
   "id": "e63ba054",
   "metadata": {},
   "source": [
    "# findall() function\n",
    "\n",
    "### The findall() function return a list containing all matches."
   ]
  },
  {
   "cell_type": "code",
   "execution_count": 17,
   "id": "8be53327",
   "metadata": {},
   "outputs": [
    {
     "name": "stdout",
     "output_type": "stream",
     "text": [
      "[' rai', 'spai']\n"
     ]
    }
   ],
   "source": [
    "## Print a list of all matches:\n",
    "\n",
    "txt=\"The rain in spain\"\n",
    "x=re.findall(\"..ai\",txt)\n",
    "print(x)"
   ]
  },
  {
   "cell_type": "code",
   "execution_count": 18,
   "id": "582d5196",
   "metadata": {},
   "outputs": [
    {
     "name": "stdout",
     "output_type": "stream",
     "text": [
      "[]\n"
     ]
    }
   ],
   "source": [
    "x=re.findall(\"Portugal\",txt)\n",
    "print(x)"
   ]
  },
  {
   "cell_type": "code",
   "execution_count": 19,
   "id": "a16cdc2a",
   "metadata": {},
   "outputs": [
    {
     "name": "stdout",
     "output_type": "stream",
     "text": [
      "['12', '89', '34']\n"
     ]
    }
   ],
   "source": [
    "string='hello 12 hi 89. Howdy 34'\n",
    "pattern='\\d+'\n",
    "\n",
    "result=re.findall(pattern,string)\n",
    "print(result)"
   ]
  },
  {
   "cell_type": "code",
   "execution_count": 5,
   "id": "bdc3774c",
   "metadata": {},
   "outputs": [
    {
     "name": "stdout",
     "output_type": "stream",
     "text": [
      "alice@google.com\n",
      "bob@abc.com\n"
     ]
    }
   ],
   "source": [
    "import re\n",
    "str='purple alice@google.com, blah monky bob@abc.com blah dishwasher'\n",
    "emails=re.findall(r'[\\w.-]+@[\\w\\.-]+',str)  ##[alice@google.com] ##[alice@google.com]  # r=raw string, (\\) as literal characters and do not escape them,\\w: Represents any word character, which includes letters, digits, and underscores. -: Represents a literal hyphen.+ means it should match one or more occurrences.\n",
    "for email in emails:                                     # [\\w\\.-]+ includes hyphens, word characters, and dots.[\\w.-]+ includes only word characters and dots.\n",
    "    print(email)                                 #john.doe@example.com would match both patterns.user-name would match the first pattern but not the second.\n",
    "                            #  While Gmail addresses typically don’t have hyphens directly after the @, other email services and domain names might. So, including the hyphen allows the pattern to be more robust and cover a wider set of possibilities."
   ]
  },
  {
   "cell_type": "markdown",
   "id": "c549f32b",
   "metadata": {},
   "source": [
    "# Finditer(string,[position,end_position])\n",
    "\n",
    "#### similar to findall()-it finds all the possible matches in the entire sequence but returns regex match objects as an iterator."
   ]
  },
  {
   "cell_type": "code",
   "execution_count": 27,
   "id": "1c52ef51",
   "metadata": {},
   "outputs": [
    {
     "name": "stdout",
     "output_type": "stream",
     "text": [
      "<re.Match object; span=(22, 42), match='support@datacamp.com'>\n",
      "<re.Match object; span=(44, 60), match='xyz@datacamp.com'>\n"
     ]
    }
   ],
   "source": [
    "statement=\"please contact us at: support@datacamp.com, xyz@datacamp.com\"\n",
    "\n",
    "# 'addresses' is a list that store the finditer\n",
    "addresses=re.finditer(r'[\\w.-]+@[\\w\\.-]+',statement)  \n",
    "for addresses in addresses:\n",
    "    print(addresses)"
   ]
  },
  {
   "cell_type": "markdown",
   "id": "127315c1",
   "metadata": {},
   "source": [
    "# The split() Function\n",
    "\n",
    "#### the split() function return a list where the string has been split at each match:"
   ]
  },
  {
   "cell_type": "code",
   "execution_count": 22,
   "id": "c36a80f3",
   "metadata": {},
   "outputs": [
    {
     "name": "stdout",
     "output_type": "stream",
     "text": [
      "['The', 'rain', 'in', 'spain']\n"
     ]
    }
   ],
   "source": [
    "## split at each white-space character:\n",
    "\n",
    "txt=\"The rain in spain\"\n",
    "x=re.split(\"\\s\",txt)\n",
    "print(x)"
   ]
  },
  {
   "cell_type": "code",
   "execution_count": 23,
   "id": "2ff5566d",
   "metadata": {},
   "outputs": [
    {
     "name": "stdout",
     "output_type": "stream",
     "text": [
      "['The', 'rain', 'in spain']\n"
     ]
    }
   ],
   "source": [
    "## split the string only at the first occurrence:\n",
    "\n",
    "txt=\"The rain in spain\"\n",
    "x=re.split(\"\\s\",txt,2)\n",
    "print(x)"
   ]
  },
  {
   "cell_type": "code",
   "execution_count": 24,
   "id": "090a4ed7",
   "metadata": {},
   "outputs": [
    {
     "name": "stdout",
     "output_type": "stream",
     "text": [
      "['Twelve:', ' Eighty Nine:', '.']\n"
     ]
    }
   ],
   "source": [
    "string='Twelve:12 Eighty Nine:89.'\n",
    "pattern='\\d+'\n",
    "result=re.split(pattern,string)\n",
    "print(result)"
   ]
  },
  {
   "cell_type": "markdown",
   "id": "00a7e49f",
   "metadata": {},
   "source": [
    "# The sub() Function\n",
    "\n",
    "#### the sub()function replaces the matches with the text of your choice:\n"
   ]
  },
  {
   "cell_type": "code",
   "execution_count": 25,
   "id": "fa6bb51f",
   "metadata": {},
   "outputs": [
    {
     "name": "stdout",
     "output_type": "stream",
     "text": [
      "the9rain9in9spain\n"
     ]
    }
   ],
   "source": [
    "## replace every white-space character with the number 9:\n",
    "\n",
    "txt=\"the rain in spain\"\n",
    "x=re.sub(\"\\s\",\"9\",txt)\n",
    "print(x)"
   ]
  },
  {
   "cell_type": "code",
   "execution_count": 26,
   "id": "141ede54",
   "metadata": {},
   "outputs": [
    {
     "name": "stdout",
     "output_type": "stream",
     "text": [
      "the9rain9in spain\n"
     ]
    }
   ],
   "source": [
    "## replace the first 2 occurences:\n",
    "txt=\"the rain in spain\"\n",
    "x=re.sub(\"\\s\",\"9\",txt,2)\n",
    "print(x)"
   ]
  },
  {
   "cell_type": "code",
   "execution_count": null,
   "id": "15a4f393",
   "metadata": {},
   "outputs": [],
   "source": []
  }
 ],
 "metadata": {
  "kernelspec": {
   "display_name": "Python 3 (ipykernel)",
   "language": "python",
   "name": "python3"
  },
  "language_info": {
   "codemirror_mode": {
    "name": "ipython",
    "version": 3
   },
   "file_extension": ".py",
   "mimetype": "text/x-python",
   "name": "python",
   "nbconvert_exporter": "python",
   "pygments_lexer": "ipython3",
   "version": "3.11.5"
  }
 },
 "nbformat": 4,
 "nbformat_minor": 5
}
