{
 "cells": [
  {
   "cell_type": "markdown",
   "id": "93f549ba",
   "metadata": {},
   "source": [
    "# Files"
   ]
  },
  {
   "cell_type": "code",
   "execution_count": 1,
   "id": "8c02df9f",
   "metadata": {},
   "outputs": [
    {
     "name": "stdout",
     "output_type": "stream",
     "text": [
      "C:\\Users\\ACER\\Softroniics\\Python\\Python Class\n"
     ]
    }
   ],
   "source": [
    "import os   # os means operating system \n",
    "\n",
    "current_directory =os.getcwd() # store current working dir\n",
    "\n",
    "print(current_directory) # print current working dir"
   ]
  },
  {
   "cell_type": "code",
   "execution_count": 2,
   "id": "8c6fa814",
   "metadata": {},
   "outputs": [
    {
     "name": "stdout",
     "output_type": "stream",
     "text": [
      "c:\\Users\n"
     ]
    }
   ],
   "source": [
    "os.chdir(\"c:\\\\Users\") # change dir\n",
    "print(os.getcwd())  # print current working dir"
   ]
  },
  {
   "cell_type": "code",
   "execution_count": 3,
   "id": "f567e2a5",
   "metadata": {},
   "outputs": [
    {
     "name": "stdout",
     "output_type": "stream",
     "text": [
      "C:\\Users\\ACER\\Softroniics\\Python\\Python Class\n"
     ]
    }
   ],
   "source": [
    "os.chdir(current_directory) #change working dir back to original\n",
    "print(os.getcwd())"
   ]
  },
  {
   "cell_type": "markdown",
   "id": "bac19914",
   "metadata": {},
   "source": [
    "# File Paths\n",
    "\n",
    "#### A path that specifies all folders starting from the root is an absolute path.\n",
    "\n",
    "#### A path that is specified relative to current working directory is a relative path.\n",
    "\n",
    "###### Absolute path of the files: C:\\modules\\tee3201\\exercises\\ex1.txt\n",
    "\n",
    "###### Relative path of the files: exercises\\ex1.txt\n",
    "\n",
    "###### if the current working directory is C:\\modules\\tee3201, you can use any of the following to refer to C:\\modules\\tee3201\\exercises\\ex1.txt.\n",
    "   ###### exercises\\ex1.txt\n",
    "   ###### .\\exercises\\ex1.txt\n",
    "   ###### ..\\tee3201\\exercises\\ex1.txt\n",
    "   ###### .. \\ ..\\modules\\tee3201\\exercises\\ex1.txt"
   ]
  },
  {
   "cell_type": "markdown",
   "id": "2aa20d7d",
   "metadata": {},
   "source": [
    "### os.makerdirs(): function to create folder\n",
    "\n",
    "### os.removedirs()::function to delete folders."
   ]
  },
  {
   "cell_type": "code",
   "execution_count": 4,
   "id": "66141f36",
   "metadata": {},
   "outputs": [
    {
     "name": "stdout",
     "output_type": "stream",
     "text": [
      "C:\\Users\\ACER\\Softroniics\\Python\\Python Class\n"
     ]
    }
   ],
   "source": [
    "print(os.getcwd()) # print the current working directory"
   ]
  },
  {
   "cell_type": "code",
   "execution_count": 5,
   "id": "fcffb70a",
   "metadata": {},
   "outputs": [],
   "source": [
    "os.makedirs('Folder1\\\\Subfolder1')  # create a dirctory"
   ]
  },
  {
   "cell_type": "code",
   "execution_count": 7,
   "id": "5f6c7feb",
   "metadata": {},
   "outputs": [],
   "source": [
    "os.chdir('Folder1\\\\Subfolder1') # change the current working directory"
   ]
  },
  {
   "cell_type": "code",
   "execution_count": 8,
   "id": "907b6021",
   "metadata": {},
   "outputs": [
    {
     "name": "stdout",
     "output_type": "stream",
     "text": [
      "C:\\Users\\ACER\\Softroniics\\Python\\Python Class\\Folder1\\Subfolder1\n"
     ]
    }
   ],
   "source": [
    "print(os.getcwd())  # print the new working directory"
   ]
  },
  {
   "cell_type": "code",
   "execution_count": 9,
   "id": "6dbcad51",
   "metadata": {},
   "outputs": [
    {
     "name": "stdout",
     "output_type": "stream",
     "text": [
      "C:\\Users\\ACER\\Softroniics\\Python\\Python Class\\Folder1\n"
     ]
    }
   ],
   "source": [
    "os.chdir('..')  # go to parent dir\n",
    "print(os.getcwd())"
   ]
  },
  {
   "cell_type": "code",
   "execution_count": 10,
   "id": "2d9be8b8",
   "metadata": {},
   "outputs": [
    {
     "name": "stdout",
     "output_type": "stream",
     "text": [
      "C:\\Users\\ACER\\Softroniics\\Python\\Python Class\n"
     ]
    }
   ],
   "source": [
    "os.chdir('..')  \n",
    "print(os.getcwd())"
   ]
  },
  {
   "cell_type": "code",
   "execution_count": 11,
   "id": "bd5b3b0b",
   "metadata": {},
   "outputs": [],
   "source": [
    "os.removedirs('Folder1\\\\Subfolder1') # Remove the directory"
   ]
  },
  {
   "cell_type": "code",
   "execution_count": 12,
   "id": "7d682f1b",
   "metadata": {},
   "outputs": [
    {
     "ename": "FileNotFoundError",
     "evalue": "[WinError 3] The system cannot find the path specified: 'Folder1\\\\Subfolder1'",
     "output_type": "error",
     "traceback": [
      "\u001b[1;31m---------------------------------------------------------------------------\u001b[0m",
      "\u001b[1;31mFileNotFoundError\u001b[0m                         Traceback (most recent call last)",
      "Cell \u001b[1;32mIn[12], line 1\u001b[0m\n\u001b[1;32m----> 1\u001b[0m os\u001b[38;5;241m.\u001b[39mchdir(\u001b[38;5;124m'\u001b[39m\u001b[38;5;124mFolder1\u001b[39m\u001b[38;5;130;01m\\\\\u001b[39;00m\u001b[38;5;124mSubfolder1\u001b[39m\u001b[38;5;124m'\u001b[39m)\n",
      "\u001b[1;31mFileNotFoundError\u001b[0m: [WinError 3] The system cannot find the path specified: 'Folder1\\\\Subfolder1'"
     ]
    }
   ],
   "source": [
    "os.chdir('Folder1\\\\Subfolder1')"
   ]
  },
  {
   "cell_type": "markdown",
   "id": "343ada3a",
   "metadata": {},
   "source": [
    "# os.path"
   ]
  },
  {
   "cell_type": "markdown",
   "id": "10a4eed9",
   "metadata": {},
   "source": [
    "#### os.path.join()function can be used to generate file path that matches the current operating system."
   ]
  },
  {
   "cell_type": "code",
   "execution_count": 13,
   "id": "98d54a76",
   "metadata": {},
   "outputs": [
    {
     "name": "stdout",
     "output_type": "stream",
     "text": [
      "C:\\Users\\ACER\\Softroniics\\Python\\Python Class\n"
     ]
    }
   ],
   "source": [
    "import os\n",
    "cwd=os.getcwd()\n",
    "print(cwd)"
   ]
  },
  {
   "cell_type": "code",
   "execution_count": 15,
   "id": "fcbce6e7",
   "metadata": {},
   "outputs": [
    {
     "name": "stdout",
     "output_type": "stream",
     "text": [
      "C:\\Users\\ACER\\Softroniics\\Python\\Python Class\\ex\\w2\n"
     ]
    }
   ],
   "source": [
    "path=os.path.join(cwd,'ex','w2')  # here it doesnt create the folder inside , it just create he path.\n",
    "print (path)"
   ]
  },
  {
   "cell_type": "markdown",
   "id": "8b823575",
   "metadata": {},
   "source": [
    "# Listing Directories"
   ]
  },
  {
   "cell_type": "code",
   "execution_count": 16,
   "id": "ab3c33a2",
   "metadata": {},
   "outputs": [
    {
     "name": "stdout",
     "output_type": "stream",
     "text": [
      ".ipynb_checkpoints\n",
      "python basics.ipynb\n",
      "Python Conditions (if , elif,else).ipynb\n",
      "Python Dictionary.ipynb\n",
      "Python Error Handling.ipynb\n",
      "Python Files.ipynb\n",
      "Python Function.ipynb\n",
      "textmodule.py\n",
      "__pycache__\n"
     ]
    }
   ],
   "source": [
    "files =os.listdir(cwd)\n",
    "\n",
    "for x in files:\n",
    "    print(x)"
   ]
  },
  {
   "cell_type": "markdown",
   "id": "ef68c265",
   "metadata": {},
   "source": [
    "# Check for a specific file"
   ]
  },
  {
   "cell_type": "code",
   "execution_count": 18,
   "id": "7f567f91",
   "metadata": {},
   "outputs": [
    {
     "name": "stdout",
     "output_type": "stream",
     "text": [
      "file doesnot exists\n"
     ]
    }
   ],
   "source": [
    "file='todo.txt'\n",
    "\n",
    "if os.path.exists(file):\n",
    "    print(\"file exists\")\n",
    "else:\n",
    "    print(\"file doesnot exists\")"
   ]
  },
  {
   "cell_type": "markdown",
   "id": "9dd05f31",
   "metadata": {},
   "source": [
    "# Checking file or directory"
   ]
  },
  {
   "cell_type": "code",
   "execution_count": 31,
   "id": "ee0dbe01",
   "metadata": {},
   "outputs": [
    {
     "name": "stdout",
     "output_type": "stream",
     "text": [
      "it is a directory\n"
     ]
    }
   ],
   "source": [
    "path ='C:\\\\Users\\\\ACER\\\\Softroniics\\\\Python'  \n",
    "#path = 'Python Files.ipynb'\n",
    "\n",
    "if os.path.isfile(path):\n",
    "    print(\"it is a file\")\n",
    "elif os.path.isdir(path):\n",
    "    print(\"it is a directory\")\n",
    "else:\n",
    "    print (\"neither file or directory\")\n",
    "    "
   ]
  },
  {
   "cell_type": "markdown",
   "id": "001d29e9",
   "metadata": {},
   "source": [
    "# Creating files"
   ]
  },
  {
   "cell_type": "code",
   "execution_count": 41,
   "id": "d20c1ef8",
   "metadata": {},
   "outputs": [],
   "source": [
    "file_name='sample.txt'\n",
    "f = open(file_name,'w') # w is writing mode\n",
    "f.write(\"this is the first line\\n\")\n",
    "\n",
    "f.close()"
   ]
  },
  {
   "cell_type": "code",
   "execution_count": 42,
   "id": "fb1be303",
   "metadata": {},
   "outputs": [],
   "source": [
    "with open (\"sample.txt\",'a') as fh: # a is append that is it writes in the end of already exist file\n",
    "    fh.write(\"hello\\n\")\n",
    "    fh.write(\"how are you\")"
   ]
  },
  {
   "cell_type": "markdown",
   "id": "a76969cd",
   "metadata": {},
   "source": [
    "# Reading from files\n",
    "\n",
    "### There are three steps to reading files in python:\n"
   ]
  },
  {
   "cell_type": "code",
   "execution_count": 43,
   "id": "bf45ee9a",
   "metadata": {},
   "outputs": [
    {
     "name": "stdout",
     "output_type": "stream",
     "text": [
      "this is the first line\n",
      "hello\n",
      "how are you\n",
      "<class 'str'>\n"
     ]
    }
   ],
   "source": [
    "import os\n",
    "file_path =os.path.join('sample.txt')\n",
    "\n",
    "f=open(file_path,'r')   # open in read mode .there are only three modes 'a','w','r'.\n",
    "items=f.read()\n",
    "print(items)\n",
    "print(type(items))\n",
    "f.close()"
   ]
  },
  {
   "cell_type": "code",
   "execution_count": 44,
   "id": "9f997444",
   "metadata": {},
   "outputs": [
    {
     "name": "stdout",
     "output_type": "stream",
     "text": [
      "['this is the first line\\n', 'hello\\n', 'how are you']\n",
      "<class 'list'>\n"
     ]
    }
   ],
   "source": [
    "file_path =os.path.join('sample.txt')\n",
    "\n",
    "f=open(file_path,'r')\n",
    "items=f.readlines()\n",
    "print(items) # print as a list\n",
    "print(type(items))\n",
    "f.close()"
   ]
  },
  {
   "cell_type": "code",
   "execution_count": 45,
   "id": "73a2e6df",
   "metadata": {},
   "outputs": [
    {
     "name": "stdout",
     "output_type": "stream",
     "text": [
      "this is the first line\n",
      "hello\n",
      "how are you\n"
     ]
    }
   ],
   "source": [
    "file_path=os.path.join('sample.txt')\n",
    "\n",
    "f=open(file_path,'r')\n",
    "items=f.readlines()\n",
    "for i in items: # print each item \n",
    "    print(i.strip()) # use strip () to remove linebreak at the end of each line\n",
    "f.close()    "
   ]
  },
  {
   "cell_type": "code",
   "execution_count": null,
   "id": "0de0e6fc",
   "metadata": {},
   "outputs": [],
   "source": []
  }
 ],
 "metadata": {
  "kernelspec": {
   "display_name": "Python 3 (ipykernel)",
   "language": "python",
   "name": "python3"
  },
  "language_info": {
   "codemirror_mode": {
    "name": "ipython",
    "version": 3
   },
   "file_extension": ".py",
   "mimetype": "text/x-python",
   "name": "python",
   "nbconvert_exporter": "python",
   "pygments_lexer": "ipython3",
   "version": "3.11.5"
  }
 },
 "nbformat": 4,
 "nbformat_minor": 5
}
