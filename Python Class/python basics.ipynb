{
 "cells": [
  {
   "cell_type": "markdown",
   "id": "90b0294d",
   "metadata": {},
   "source": [
    "# print(\"Hello\")\n",
    "print(\"Hello\")\n",
    "print(\"Hello\")"
   ]
  },
  {
   "cell_type": "code",
   "execution_count": 6,
   "id": "a3e6dd9e",
   "metadata": {},
   "outputs": [
    {
     "name": "stdout",
     "output_type": "stream",
     "text": [
      "Hello\n",
      "Hello\n",
      "Hello\n"
     ]
    }
   ],
   "source": [
    "    print(\"Hello\")\n",
    "    print(\"Hello\")\n",
    "    print(\"Hello\")"
   ]
  },
  {
   "cell_type": "code",
   "execution_count": 5,
   "id": "8655ef54",
   "metadata": {},
   "outputs": [
    {
     "name": "stdout",
     "output_type": "stream",
     "text": [
      "hello\n",
      "hello\n"
     ]
    }
   ],
   "source": [
    "print(\"hello\")\n",
    "print(\"hello\")"
   ]
  },
  {
   "cell_type": "code",
   "execution_count": 7,
   "id": "58391fb2",
   "metadata": {},
   "outputs": [
    {
     "name": "stdout",
     "output_type": "stream",
     "text": [
      "30\n"
     ]
    }
   ],
   "source": [
    "num1=5\n",
    "num2=10\n",
    "num3=15\n",
    "print(num1+num2+num3)\n"
   ]
  },
  {
   "cell_type": "code",
   "execution_count": 8,
   "id": "9ace4f41",
   "metadata": {},
   "outputs": [
    {
     "name": "stdout",
     "output_type": "stream",
     "text": [
      "15\n"
     ]
    }
   ],
   "source": [
    "num3=num2+num1\n",
    "print(num3)"
   ]
  },
  {
   "cell_type": "code",
   "execution_count": 9,
   "id": "0a2a8779",
   "metadata": {},
   "outputs": [
    {
     "name": "stdout",
     "output_type": "stream",
     "text": [
      "5 10 15\n"
     ]
    }
   ],
   "source": [
    "print(num1,num2,num3)"
   ]
  },
  {
   "cell_type": "code",
   "execution_count": 10,
   "id": "1698e0cf",
   "metadata": {},
   "outputs": [
    {
     "name": "stdout",
     "output_type": "stream",
     "text": [
      "51015\n"
     ]
    }
   ],
   "source": [
    "num1=\"5\"\n",
    "num2=\"10\"\n",
    "num3=\"15\"\n",
    "print(num1+num2+num3) #here value given to num1,2,3 are string "
   ]
  },
  {
   "cell_type": "code",
   "execution_count": 10,
   "id": "efb43650",
   "metadata": {},
   "outputs": [
    {
     "name": "stdout",
     "output_type": "stream",
     "text": [
      "hello softroniics\n"
     ]
    }
   ],
   "source": [
    "x=\"hello\"\n",
    "y=\"softroniics\"\n",
    "print(x,y)\n"
   ]
  },
  {
   "cell_type": "code",
   "execution_count": 11,
   "id": "440b288c",
   "metadata": {},
   "outputs": [
    {
     "name": "stdout",
     "output_type": "stream",
     "text": [
      "1.1 2 hello\n"
     ]
    }
   ],
   "source": [
    "x,y,z=1.1,2,\"hello\"\n",
    "print(x,y,z)"
   ]
  },
  {
   "cell_type": "code",
   "execution_count": 13,
   "id": "bc3781bf",
   "metadata": {},
   "outputs": [
    {
     "name": "stdout",
     "output_type": "stream",
     "text": [
      "hello hello hello\n"
     ]
    }
   ],
   "source": [
    "x=y=z=\"hello\"\n",
    "print(x,y,z)"
   ]
  },
  {
   "cell_type": "markdown",
   "id": "ea5592ab",
   "metadata": {},
   "source": [
    "# comments in python"
   ]
  },
  {
   "cell_type": "markdown",
   "id": "39ae190e",
   "metadata": {},
   "source": [
    "in soft"
   ]
  },
  {
   "cell_type": "code",
   "execution_count": 14,
   "id": "1a5f3907",
   "metadata": {},
   "outputs": [
    {
     "name": "stdout",
     "output_type": "stream",
     "text": [
      "hello\n"
     ]
    }
   ],
   "source": [
    "# this is a single-line comment\n",
    "print(\"hello\")"
   ]
  },
  {
   "cell_type": "code",
   "execution_count": 15,
   "id": "f0790e51",
   "metadata": {},
   "outputs": [],
   "source": [
    "# this is a multi-line comment\n",
    "# or a docstring.\n",
    "# it provides\n"
   ]
  },
  {
   "cell_type": "code",
   "execution_count": 17,
   "id": "15002894",
   "metadata": {},
   "outputs": [
    {
     "name": "stdout",
     "output_type": "stream",
     "text": [
      "hi\n"
     ]
    }
   ],
   "source": [
    "\"\"\"\n",
    "this is a multi-line\n",
    "or a\n",
    "it provides\n",
    "class\n",
    "\"\"\"\n",
    "print(\"hi\")"
   ]
  },
  {
   "cell_type": "markdown",
   "id": "7b9ff44f",
   "metadata": {},
   "source": [
    "# 23/01/2024"
   ]
  },
  {
   "cell_type": "code",
   "execution_count": 1,
   "id": "36187e88",
   "metadata": {},
   "outputs": [
    {
     "name": "stdout",
     "output_type": "stream",
     "text": [
      "5 5\n"
     ]
    }
   ],
   "source": [
    "x=5\n",
    "y=\"5\"\n",
    "print(x,y)"
   ]
  },
  {
   "cell_type": "code",
   "execution_count": 2,
   "id": "aa8cbb7a",
   "metadata": {},
   "outputs": [
    {
     "name": "stdout",
     "output_type": "stream",
     "text": [
      "<class 'int'>\n",
      "<class 'str'>\n",
      "<class 'list'>\n"
     ]
    }
   ],
   "source": [
    "x=5\n",
    "y=\"hello\"\n",
    "z=[1,2,3]\n",
    "print(type(x))\n",
    "print(type(y))\n",
    "print(type(z))"
   ]
  },
  {
   "cell_type": "markdown",
   "id": "1d801bbd",
   "metadata": {},
   "source": [
    "# Type conversion or type casting"
   ]
  },
  {
   "cell_type": "code",
   "execution_count": 11,
   "id": "66267135",
   "metadata": {},
   "outputs": [
    {
     "name": "stdout",
     "output_type": "stream",
     "text": [
      "<class 'str'>\n",
      "<class 'int'>\n",
      "converted int; 42\n"
     ]
    }
   ],
   "source": [
    "num_str=\"42\"\n",
    "print(type(num_str))\n",
    "\n",
    "num_int=int(num_str) # Using int() to convert num_str to an integer 42 (here str is coverted to int)\n",
    "print(type(num_int))\n",
    "print(\"converted int;\",num_int) #output converted into interger 42"
   ]
  },
  {
   "cell_type": "code",
   "execution_count": 6,
   "id": "76be449f",
   "metadata": {},
   "outputs": [
    {
     "name": "stdout",
     "output_type": "stream",
     "text": [
      "<class 'str'>\n",
      "<class 'float'>\n"
     ]
    }
   ],
   "source": [
    "num_str=\"3.14\"\n",
    "print(type(num_str))  \n",
    "\n",
    "num_float =float(num_str)  # num_floot will be a floot 3.14\n",
    "print(type(num_float))"
   ]
  },
  {
   "cell_type": "markdown",
   "id": "1ae8c429",
   "metadata": {},
   "source": [
    "## Python user-input "
   ]
  },
  {
   "cell_type": "code",
   "execution_count": 2,
   "id": "7451bd84",
   "metadata": {},
   "outputs": [
    {
     "name": "stdout",
     "output_type": "stream",
     "text": [
      "enter username; Adarsh\n",
      "hello Adarsh\n"
     ]
    }
   ],
   "source": [
    "username=input(\"enter username; \") #input operation means ,when we run program there will be box apperaing to input the required data by the user\n",
    "\n",
    "print (\"hello\", username)"
   ]
  },
  {
   "cell_type": "code",
   "execution_count": 1,
   "id": "3e1b808d",
   "metadata": {},
   "outputs": [
    {
     "name": "stdout",
     "output_type": "stream",
     "text": [
      "enter the first number : 5\n",
      "enter the second number: 6\n",
      "the addition result is : 56\n"
     ]
    }
   ],
   "source": [
    "x=input(\"enter the first number : \")\n",
    "y=input(\"enter the second number: \")\n",
    "\n",
    "print(\"the addition result is :\", x+y) # input operator automatically taken as a string by the python"
   ]
  },
  {
   "cell_type": "code",
   "execution_count": 5,
   "id": "c56b5ecb",
   "metadata": {},
   "outputs": [
    {
     "name": "stdout",
     "output_type": "stream",
     "text": [
      "enter the first number : 5\n",
      "enter the second number: 6\n",
      "the addition result is : 11.0\n"
     ]
    }
   ],
   "source": [
    "x=float(input(\"enter the first number : \"))  #float means decimal no.\n",
    "y=int(input(\"enter the second number: \"))\n",
    "\n",
    "print(\"the addition result is :\", x+y)"
   ]
  },
  {
   "cell_type": "code",
   "execution_count": 13,
   "id": "8f8a3efb",
   "metadata": {},
   "outputs": [
    {
     "name": "stdout",
     "output_type": "stream",
     "text": [
      "if we want to print a inform otheres some quotes,and it should be in multiplie lines we can use three inverted comma,othere wise it will be printed in a single line itself like the result of this \n"
     ]
    }
   ],
   "source": [
    "a=\"if we want to print a inform otheres some quotes,and it should be in multiplie lines we can use three inverted comma,othere wise it will be printed in a single line itself like the result of this \"\n",
    "print(a)"
   ]
  },
  {
   "cell_type": "code",
   "execution_count": 11,
   "id": "12a18efc",
   "metadata": {},
   "outputs": [
    {
     "name": "stdout",
     "output_type": "stream",
     "text": [
      "this is a example of mutli lined\n",
      "matter written,\n",
      "by using three inverted comma\n",
      "ut labore et dolore magna aliqua.\n"
     ]
    }
   ],
   "source": [
    "a=\"\"\"this is a example of mutli lined\n",
    "matter written,\n",
    "by using three inverted comma\n",
    "ut labore et dolore magna aliqua.\"\"\"\n",
    "\n",
    "print(a)"
   ]
  },
  {
   "cell_type": "markdown",
   "id": "6263a8c7",
   "metadata": {},
   "source": [
    "#  string length"
   ]
  },
  {
   "cell_type": "code",
   "execution_count": 21,
   "id": "410b2d6e",
   "metadata": {},
   "outputs": [
    {
     "name": "stdout",
     "output_type": "stream",
     "text": [
      "13\n"
     ]
    }
   ],
   "source": [
    "my_string='hello, world!' # space and comma is also included \n",
    "length=len(my_string)\n",
    "print(length)"
   ]
  },
  {
   "cell_type": "markdown",
   "id": "1420131f",
   "metadata": {},
   "source": [
    "# string indexing"
   ]
  },
  {
   "cell_type": "code",
   "execution_count": 18,
   "id": "6aaf659b",
   "metadata": {},
   "outputs": [
    {
     "name": "stdout",
     "output_type": "stream",
     "text": [
      "o\n"
     ]
    }
   ],
   "source": [
    "my_string='hello' #python text character position starting with 0,eg;in this h=0,e=1,l=2,l=3,o=4 are position of the text\n",
    "first_char= my_string[4]\n",
    "print(first_char)"
   ]
  },
  {
   "cell_type": "code",
   "execution_count": 2,
   "id": "a24db88d",
   "metadata": {
    "scrolled": true
   },
   "outputs": [
    {
     "name": "stdout",
     "output_type": "stream",
     "text": [
      "! d\n"
     ]
    }
   ],
   "source": [
    "# negative indices\n",
    "my_string=\"hello, world!\" #in negative indices it assign the -1 itself frome back\n",
    "last_char=my_string[-1]\n",
    "second_last_char=my_string[-2]\n",
    "print(last_char,second_last_char)"
   ]
  },
  {
   "cell_type": "markdown",
   "id": "5057e171",
   "metadata": {},
   "source": [
    "# string slicing"
   ]
  },
  {
   "cell_type": "markdown",
   "id": "67c48671",
   "metadata": {},
   "source": [
    "### string[start:end:step]"
   ]
  },
  {
   "cell_type": "code",
   "execution_count": 16,
   "id": "6df0326a",
   "metadata": {},
   "outputs": [
    {
     "name": "stdout",
     "output_type": "stream",
     "text": [
      "wor\n"
     ]
    }
   ],
   "source": [
    "# inclusive start, exclusive end\n",
    "my_string=\"hello, world!\"\n",
    "sliced_string=my_string[7:10]\n",
    "print(sliced_string)"
   ]
  },
  {
   "cell_type": "code",
   "execution_count": 20,
   "id": "ba426b79",
   "metadata": {},
   "outputs": [
    {
     "name": "stdout",
     "output_type": "stream",
     "text": [
      "hello world!\n"
     ]
    }
   ],
   "source": [
    "# omitted indices\n",
    "my_string=\"hello, world!\"\n",
    "start_omitted=my_string[:5]\n",
    "end_omitted=my_string[7:]\n",
    "print(start_omitted,end_omitted)"
   ]
  },
  {
   "cell_type": "code",
   "execution_count": 26,
   "id": "5257a87f",
   "metadata": {},
   "outputs": [
    {
     "name": "stdout",
     "output_type": "stream",
     "text": [
      "hlo\n"
     ]
    }
   ],
   "source": [
    "# step size\n",
    "my_string=\"hello, world!\"\n",
    "every_second_char=my_string[0:5:2]\n",
    "print(every_second_char)"
   ]
  },
  {
   "cell_type": "code",
   "execution_count": 23,
   "id": "5a569bb9",
   "metadata": {},
   "outputs": [
    {
     "name": "stdout",
     "output_type": "stream",
     "text": [
      "!dlrow ,olleh\n",
      "!lo olh\n"
     ]
    }
   ],
   "source": [
    "# Reversing a string\n",
    "my_string=\"hello, world!\"\n",
    "reversed_string1=my_string[::-1]\n",
    "reversed_string2=my_string[::-2]\n",
    "print(reversed_string1)\n",
    "print(reversed_string2)"
   ]
  },
  {
   "cell_type": "markdown",
   "id": "1b0d7fc6",
   "metadata": {},
   "source": [
    "# string concatination"
   ]
  },
  {
   "cell_type": "code",
   "execution_count": 23,
   "id": "97280e04",
   "metadata": {},
   "outputs": [
    {
     "name": "stdout",
     "output_type": "stream",
     "text": [
      "helloworld\n"
     ]
    }
   ],
   "source": [
    "a=\"hello\"\n",
    "b=\"world\"\n",
    "c=a+b\n",
    "print(c)"
   ]
  },
  {
   "cell_type": "code",
   "execution_count": 24,
   "id": "474ff008",
   "metadata": {},
   "outputs": [
    {
     "name": "stdout",
     "output_type": "stream",
     "text": [
      "hello world\n"
     ]
    }
   ],
   "source": [
    "c=a+\" \"+b\n",
    "print(c)"
   ]
  },
  {
   "cell_type": "code",
   "execution_count": 25,
   "id": "2a519689",
   "metadata": {},
   "outputs": [
    {
     "name": "stdout",
     "output_type": "stream",
     "text": [
      "hello world!!!!!!!!!!!!!!!!!!!!\n"
     ]
    }
   ],
   "source": [
    "c=a+\" \"+b+('!'*20)\n",
    "print(c)"
   ]
  },
  {
   "cell_type": "markdown",
   "id": "4988f96a",
   "metadata": {},
   "source": [
    "# string method"
   ]
  },
  {
   "cell_type": "code",
   "execution_count": 3,
   "id": "2180340f",
   "metadata": {},
   "outputs": [
    {
     "name": "stdout",
     "output_type": "stream",
     "text": [
      "HELLO\n"
     ]
    }
   ],
   "source": [
    "s1=\"hello\"\n",
    "print(s1.upper()) # converted to uppercase"
   ]
  },
  {
   "cell_type": "code",
   "execution_count": 27,
   "id": "53f15e61",
   "metadata": {},
   "outputs": [
    {
     "name": "stdout",
     "output_type": "stream",
     "text": [
      "hello\n"
     ]
    }
   ],
   "source": [
    "s2=\"HELLO\"\n",
    "print(s2.lower())  # converted to lowercase"
   ]
  },
  {
   "cell_type": "code",
   "execution_count": 28,
   "id": "789e4ae8",
   "metadata": {},
   "outputs": [
    {
     "name": "stdout",
     "output_type": "stream",
     "text": [
      " Hello, World!  \n",
      "Hello, World!\n"
     ]
    }
   ],
   "source": [
    "s3=\" Hello, World!  \"\n",
    "print(s3)\n",
    "print(s3.strip())  # removes leading and trailing whitespace from a string"
   ]
  },
  {
   "cell_type": "code",
   "execution_count": 32,
   "id": "e806e5bf",
   "metadata": {},
   "outputs": [
    {
     "name": "stdout",
     "output_type": "stream",
     "text": [
      "True\n",
      "True\n",
      "True\n"
     ]
    }
   ],
   "source": [
    "alpha_check=\"hello\".isalpha() # return True if all the characters in the string are alphabetic\n",
    "print(alpha_check)\n",
    "\n",
    "digit_check=\"123\".isdigit() #return TRue if all the characters in string are numeric,or alphanumeric\n",
    "print(digit_check)\n",
    "\n",
    "alnum_check=\"Hello123\".isalnum()  # return TRUE if all the characters in the string are alphanumeric\n",
    "print(alnum_check)"
   ]
  },
  {
   "cell_type": "code",
   "execution_count": 48,
   "id": "409dcf91",
   "metadata": {},
   "outputs": [
    {
     "name": "stdout",
     "output_type": "stream",
     "text": [
      "['apple', 'banana', ' cherry']\n",
      "['', 'pple,b', 'n', 'n', ', cherry']\n",
      "apple banana  cherry\n",
      "apple+banana+ cherry\n"
     ]
    }
   ],
   "source": [
    "my_string=\"apple,banana, cherry\"\n",
    "fruits= my_string.split(\",\") # divides a string into a list of substrings based on a specified separator.\n",
    "print(fruits)\n",
    "\n",
    "fruits1= my_string.split(\"a\")\n",
    "print(fruits1)\n",
    "\n",
    "joined_string= \" \".join(fruits) # concatenates the elements of an iterable into a single string,using the string as a separator.\n",
    "print(joined_string)\n",
    "\n",
    "joined_string= \"+\".join(fruits) \n",
    "print(joined_string)"
   ]
  },
  {
   "cell_type": "code",
   "execution_count": 38,
   "id": "714055be",
   "metadata": {},
   "outputs": [
    {
     "name": "stdout",
     "output_type": "stream",
     "text": [
      "hi, world!\n"
     ]
    }
   ],
   "source": [
    "my_string=\"hello, world!\"\n",
    "new_string=my_string.replace(\"hello\",\"hi\") # returns a new string where occurrences of old are replace with new.\n",
    "print(new_string)"
   ]
  },
  {
   "cell_type": "markdown",
   "id": "064b19b3",
   "metadata": {},
   "source": [
    "# 27/01/2024"
   ]
  },
  {
   "cell_type": "markdown",
   "id": "d68650b4",
   "metadata": {},
   "source": [
    "# String Formatting"
   ]
  },
  {
   "cell_type": "code",
   "execution_count": 14,
   "id": "2b25ca96",
   "metadata": {},
   "outputs": [
    {
     "name": "stdout",
     "output_type": "stream",
     "text": [
      "('my name is alice and i am', 25, 'years old')\n",
      "my name is  alice  and i am 25 years old.\n"
     ]
    }
   ],
   "source": [
    "name=\" alice \"\n",
    "age=25\n",
    "s=\"my name is\" + name + \"and i am\" ,age , \"years old\"\n",
    "print (s)\n",
    "\n",
    "#it is difficult to write like this so othere ways are as follow;\n",
    "\n",
    "formatted_string=\"my name is %s and i am %d years old.\" %(name,age)\n",
    "print(formatted_string)"
   ]
  },
  {
   "cell_type": "code",
   "execution_count": 7,
   "id": "5f63425b",
   "metadata": {},
   "outputs": [
    {
     "name": "stdout",
     "output_type": "stream",
     "text": [
      "my name is bob and i am 25 years old.\n"
     ]
    }
   ],
   "source": [
    "name=\"bob\"\n",
    "age=25\n",
    "formatted_string=f\"my name is {name} and i am {age} years old.\" #f means format\n",
    "print(formatted_string)"
   ]
  },
  {
   "cell_type": "code",
   "execution_count": 18,
   "id": "103eb4eb",
   "metadata": {},
   "outputs": [
    {
     "name": "stdout",
     "output_type": "stream",
     "text": [
      "My name is charlie and i am 35 years old.\n"
     ]
    }
   ],
   "source": [
    "name=\"charlie\"\n",
    "age=35\n",
    "formatted_string=\"My name is {} and i am {} years old.\".format(name,age)\n",
    "print(formatted_string)"
   ]
  },
  {
   "cell_type": "code",
   "execution_count": 15,
   "id": "c783cb83",
   "metadata": {},
   "outputs": [
    {
     "name": "stdout",
     "output_type": "stream",
     "text": [
      "the value of pi is approximately:3.14\n"
     ]
    }
   ],
   "source": [
    "pi = 3.141592635359\n",
    "formatted_pi=\"the value of pi is approximately:{:0.2f}\".format(pi) #here 0.2f functions as, after decimal 2 place numbers will be visible. if it is 0.3f three will be visible like etc.\n",
    "print(formatted_pi)"
   ]
  },
  {
   "cell_type": "markdown",
   "id": "f0d0a240",
   "metadata": {},
   "source": [
    "# Arithamatic Operators"
   ]
  },
  {
   "cell_type": "code",
   "execution_count": 3,
   "id": "44a66d44",
   "metadata": {},
   "outputs": [
    {
     "name": "stdout",
     "output_type": "stream",
     "text": [
      "additon :  15\n",
      "subtraction:  5\n",
      "multiplication:  50\n",
      "division:  2.0\n",
      "modulus: 0\n",
      "exponentiation:  100000\n",
      "floor_division:  2\n"
     ]
    }
   ],
   "source": [
    "x = 10\n",
    "y = 5\n",
    "\n",
    "addition= x+y\n",
    "subtraction= x-y\n",
    "multiplication=x*y\n",
    "division= x/y # divides the left operand by the right operand (result is always a float).\n",
    "\n",
    "modulus= x % y # returns the remainder of the division.\n",
    "exponentiation = x**y #raises the left operand to the power of the right operand.\n",
    "floor_division=x//y # Performs division and rounds the down to the nearest whole number.\n",
    "\n",
    "print(\"additon : \",addition)\n",
    "print(\"subtraction: \",subtraction)\n",
    "print(\"multiplication: \",multiplication)\n",
    "print(\"division: \",division)\n",
    "print(\"modulus:\" ,modulus)\n",
    "print(\"exponentiation: \",exponentiation)\n",
    "print(\"floor_division: \",floor_division)"
   ]
  },
  {
   "cell_type": "markdown",
   "id": "5ada27da",
   "metadata": {},
   "source": [
    "# Comparison Operators "
   ]
  },
  {
   "cell_type": "code",
   "execution_count": 23,
   "id": "de3ce8d7",
   "metadata": {},
   "outputs": [
    {
     "name": "stdout",
     "output_type": "stream",
     "text": [
      "False True True False True False\n"
     ]
    }
   ],
   "source": [
    "x=10\n",
    "y=5\n",
    "\n",
    "is_equal= x==y\n",
    "not_equal= x!=y\n",
    "greater_than= x>y\n",
    "less_than= x<y\n",
    "greater_or_equal= x>=y\n",
    "less_or_equal= x<=y\n",
    "print(is_equal,not_equal,greater_than,less_than,greater_or_equal,less_or_equal)"
   ]
  },
  {
   "cell_type": "markdown",
   "id": "f007b15a",
   "metadata": {},
   "source": [
    "# Logical opertors"
   ]
  },
  {
   "cell_type": "code",
   "execution_count": 22,
   "id": "201624fc",
   "metadata": {},
   "outputs": [
    {
     "name": "stdout",
     "output_type": "stream",
     "text": [
      "True\n",
      "True\n",
      "False\n"
     ]
    }
   ],
   "source": [
    "x=5\n",
    "print(x>3 and x<10) #returns true because 5 is greater than 3 and 5 is less than 10\n",
    "print(x>3 or X<4)  #returns true because one of the conditions are true (5 is greater than 3, but 5 is not less than 4)\n",
    "print(not(x>3 and x<10))  # returns false because not is used to reverse the result"
   ]
  },
  {
   "cell_type": "markdown",
   "id": "9055abe8",
   "metadata": {},
   "source": [
    "# Assignment Operators"
   ]
  },
  {
   "cell_type": "code",
   "execution_count": 4,
   "id": "10b01516",
   "metadata": {},
   "outputs": [
    {
     "name": "stdout",
     "output_type": "stream",
     "text": [
      "15\n",
      "12\n",
      "24\n",
      "6.0\n"
     ]
    }
   ],
   "source": [
    "x= 10 # x is assigned the value 10\n",
    "\n",
    "# Add and Assign\n",
    "x += 5  # Equivalent to x = x+5, x is now 15\n",
    "print(x)\n",
    "\n",
    "# Subtract and assign\n",
    "x -= 3 #Equivalent to x = x-3, x is now 12\n",
    "print(x)\n",
    "\n",
    "# Multiply and assign\n",
    "x *= 2 # Equivalent to x = x*2, x is now 24\n",
    "print(x)\n",
    "\n",
    "# Divide and assign\n",
    "x/=4 # Equivalent to x = x/4, x is now 6.0\n",
    "print(x)"
   ]
  },
  {
   "cell_type": "markdown",
   "id": "6eb8d9c8",
   "metadata": {},
   "source": [
    "# Identity Operators"
   ]
  },
  {
   "cell_type": "code",
   "execution_count": 28,
   "id": "e7ff4b25",
   "metadata": {},
   "outputs": [
    {
     "name": "stdout",
     "output_type": "stream",
     "text": [
      "True\n",
      "False\n",
      "True\n",
      "False\n",
      "True\n",
      "False\n"
     ]
    }
   ],
   "source": [
    "x = [\"apple\",\"banana\"]\n",
    "y = [\"apple\",\"banana\"]\n",
    "z = x\n",
    "\n",
    "print(x is z)  #returns true because z is the same object as x\n",
    "\n",
    "print(x is y)   #returns False because x is not the same object as y , even if they have the same content\n",
    "\n",
    "print(x==y)  #to demonstrate the difference between \"is\" and \"==\": this comparison returns true because x is equal to y\n",
    "\n",
    "print(x is not z)  # returns False beacuse z is the same object as x\n",
    "\n",
    "print(x is not y)  #returns True because x is not the same object as y, even if they have the same content\n",
    "\n",
    "print(x != y) # to demonstrate the difference between \"is not\" and \"!=\": this comparison returns Fals because x  is equal to y"
   ]
  },
  {
   "cell_type": "markdown",
   "id": "36261170",
   "metadata": {},
   "source": [
    "# 29/01/2024"
   ]
  },
  {
   "cell_type": "markdown",
   "id": "e24a5037",
   "metadata": {},
   "source": [
    "# Membership Operators"
   ]
  },
  {
   "cell_type": "code",
   "execution_count": 3,
   "id": "5b07fdfd",
   "metadata": {},
   "outputs": [
    {
     "name": "stdout",
     "output_type": "stream",
     "text": [
      "True\n"
     ]
    }
   ],
   "source": [
    "x=[\"apple\",\"banana\"]\n",
    "print(\"banana\" in x) # returns True because a sequence with the value \"banana\" is in the list"
   ]
  },
  {
   "cell_type": "code",
   "execution_count": 4,
   "id": "5b0ab39e",
   "metadata": {},
   "outputs": [
    {
     "name": "stdout",
     "output_type": "stream",
     "text": [
      "True\n"
     ]
    }
   ],
   "source": [
    "x=[\"apple\",\"banana\"]\n",
    "print(\"pineapple\" not in x) # returns True because a sequence with the value \"pineapple\" is not the list"
   ]
  },
  {
   "cell_type": "markdown",
   "id": "eadcbb67",
   "metadata": {},
   "source": [
    "# Access List Items"
   ]
  },
  {
   "cell_type": "code",
   "execution_count": 7,
   "id": "785be0d3",
   "metadata": {},
   "outputs": [
    {
     "name": "stdout",
     "output_type": "stream",
     "text": [
      "1\n",
      "2\n",
      "10\n"
     ]
    }
   ],
   "source": [
    "numbers =[1,2,3,4,5,6,7,8,9,10]\n",
    "\n",
    "first_element=numbers[0]\n",
    "second_element=numbers[1]\n",
    "last_element=numbers[-1]\n",
    "\n",
    "print(first_element)\n",
    "print(second_element)\n",
    "print(last_element)"
   ]
  },
  {
   "cell_type": "code",
   "execution_count": 8,
   "id": "d23a5616",
   "metadata": {},
   "outputs": [
    {
     "name": "stdout",
     "output_type": "stream",
     "text": [
      "[3, 4, 5]\n"
     ]
    }
   ],
   "source": [
    "print(numbers[2:5])"
   ]
  },
  {
   "cell_type": "code",
   "execution_count": 9,
   "id": "bd3de06c",
   "metadata": {},
   "outputs": [
    {
     "name": "stdout",
     "output_type": "stream",
     "text": [
      "10\n"
     ]
    }
   ],
   "source": [
    "print(len(numbers))"
   ]
  },
  {
   "cell_type": "markdown",
   "id": "7ae0ebba",
   "metadata": {},
   "source": [
    "# Adding elements"
   ]
  },
  {
   "cell_type": "code",
   "execution_count": 10,
   "id": "60f3eb41",
   "metadata": {},
   "outputs": [
    {
     "name": "stdout",
     "output_type": "stream",
     "text": [
      "['apple', 'banana', 'cherry']\n"
     ]
    }
   ],
   "source": [
    "# append: Adds an element to the end of the list\n",
    "fruits=[\"apple\",\"banana\"]\n",
    "fruits.append(\"cherry\")\n",
    "print(fruits)"
   ]
  },
  {
   "cell_type": "code",
   "execution_count": 11,
   "id": "c394ce3a",
   "metadata": {},
   "outputs": [
    {
     "name": "stdout",
     "output_type": "stream",
     "text": [
      "['apple', 'orange', 'banana', 'cherry']\n"
     ]
    }
   ],
   "source": [
    "# insert: Adds an element at a specific index\n",
    "fruits.insert(1,\"orange\")\n",
    "print(fruits)"
   ]
  },
  {
   "cell_type": "markdown",
   "id": "4cfe16a4",
   "metadata": {},
   "source": [
    "# Extending Lists"
   ]
  },
  {
   "cell_type": "code",
   "execution_count": 13,
   "id": "1d71b012",
   "metadata": {},
   "outputs": [
    {
     "name": "stdout",
     "output_type": "stream",
     "text": [
      "['apple', 'banana', 'cherry', 'orange']\n"
     ]
    }
   ],
   "source": [
    "fruits=[\"apple\",\"banana\"]\n",
    "more_fruits=[\"cherry\",\"orange\"]\n",
    "fruits.extend(more_fruits)\n",
    "print(fruits)"
   ]
  },
  {
   "cell_type": "markdown",
   "id": "65a16c64",
   "metadata": {},
   "source": [
    "# change item value"
   ]
  },
  {
   "cell_type": "code",
   "execution_count": 14,
   "id": "e3c87294",
   "metadata": {},
   "outputs": [
    {
     "name": "stdout",
     "output_type": "stream",
     "text": [
      "['apple', 'melon', 'cherry', 'banana']\n"
     ]
    }
   ],
   "source": [
    "fruits=[\"apple\",\"banana\",\"cherry\",\"banana\"]\n",
    "fruits[1]=\"melon\"\n",
    "\n",
    "print(fruits)"
   ]
  },
  {
   "cell_type": "code",
   "execution_count": 15,
   "id": "1342519e",
   "metadata": {},
   "outputs": [
    {
     "name": "stdout",
     "output_type": "stream",
     "text": [
      "['apple', 'pappaya,Kiwi', 'banana']\n"
     ]
    }
   ],
   "source": [
    "fruits[1:3]=[\"pappaya,Kiwi\"]\n",
    "print(fruits)"
   ]
  },
  {
   "cell_type": "markdown",
   "id": "86c716a5",
   "metadata": {},
   "source": [
    "# Removing Elements"
   ]
  },
  {
   "cell_type": "code",
   "execution_count": 16,
   "id": "e9503a3d",
   "metadata": {},
   "outputs": [
    {
     "name": "stdout",
     "output_type": "stream",
     "text": [
      "['apple', 'cherry', 'banana']\n"
     ]
    }
   ],
   "source": [
    "fruits=[\"apple\",\"banana\",\"cherry\",\"banana\"]\n",
    "fruits.remove(\"banana\")\n",
    "print(fruits)"
   ]
  },
  {
   "cell_type": "code",
   "execution_count": 17,
   "id": "2acb5fae",
   "metadata": {},
   "outputs": [
    {
     "name": "stdout",
     "output_type": "stream",
     "text": [
      "['apple', 'banana', 'cherry']\n"
     ]
    }
   ],
   "source": [
    "fruits=[\"apple\",\"banana\",\"cherry\",\"mango\"]\n",
    "removed_fruit=fruits.pop()\n",
    "print(fruits)"
   ]
  },
  {
   "cell_type": "code",
   "execution_count": 18,
   "id": "6726eb67",
   "metadata": {},
   "outputs": [
    {
     "name": "stdout",
     "output_type": "stream",
     "text": [
      "[]\n"
     ]
    }
   ],
   "source": [
    "fruits=[\"apple\",\"banana\",\"cherry\"]\n",
    "fruits.clear()\n",
    "print(fruits)"
   ]
  },
  {
   "cell_type": "code",
   "execution_count": 19,
   "id": "3ea6611c",
   "metadata": {},
   "outputs": [
    {
     "name": "stdout",
     "output_type": "stream",
     "text": [
      "['banana', 'cherry']\n"
     ]
    }
   ],
   "source": [
    "mylist=[\"apple\",\"banana\",\"cherry\"]\n",
    "del mylist[0]\n",
    "print(mylist)"
   ]
  },
  {
   "cell_type": "markdown",
   "id": "07dbcc2a",
   "metadata": {},
   "source": [
    "# Copying Lists"
   ]
  },
  {
   "cell_type": "code",
   "execution_count": 20,
   "id": "e37525b4",
   "metadata": {},
   "outputs": [],
   "source": [
    "fruits=[\"apple\",\"banana\",\"cherry\"]\n",
    "copy_fruits=fruits.copy()  # copy_fruits is a separate copy of fruits\n",
    "# or\n",
    "copy_fruits=fruits[:] #Another way to create a copy of the list"
   ]
  },
  {
   "cell_type": "code",
   "execution_count": 1,
   "id": "38f1a362",
   "metadata": {},
   "outputs": [
    {
     "name": "stdout",
     "output_type": "stream",
     "text": [
      "['apple', 'banana', 'cherry']\n",
      "['apple', 'banana', 'cherry']\n",
      "['apple', 100, 'cherry']\n",
      "['apple', 'banana', 'cherry']\n"
     ]
    }
   ],
   "source": [
    "fruits=[\"apple\",\"banana\",\"cherry\"]\n",
    "print(fruits)\n",
    "# x=fruits #here if we give x= fruits then if we print (x) and print(fruits) the results will be same so to keep fruits unchanged do the below methode.\n",
    "# print(x)\n",
    "# x[0]=89\n",
    "# print(x)\n",
    "# print(fruits)\n",
    "\n",
    "y=fruits.copy() #here we copyed the list so even if make change in copy it will not make change in orginal .\n",
    "print(y)\n",
    "y[1]=100\n",
    "print(y)\n",
    "print(fruits)"
   ]
  },
  {
   "cell_type": "markdown",
   "id": "8ab4e32b",
   "metadata": {},
   "source": [
    "# Reversing a list"
   ]
  },
  {
   "cell_type": "code",
   "execution_count": 22,
   "id": "df174eaf",
   "metadata": {},
   "outputs": [
    {
     "name": "stdout",
     "output_type": "stream",
     "text": [
      "[5, 4, 3, 2, 1]\n"
     ]
    }
   ],
   "source": [
    "numbers =[1,2,3,4,5]\n",
    "numbers.reverse()\n",
    "print(numbers)"
   ]
  },
  {
   "cell_type": "markdown",
   "id": "7aa6d00c",
   "metadata": {},
   "source": [
    "# Sorting a list"
   ]
  },
  {
   "cell_type": "code",
   "execution_count": 23,
   "id": "2487b686",
   "metadata": {},
   "outputs": [
    {
     "name": "stdout",
     "output_type": "stream",
     "text": [
      "[1, 2, 3, 4, 5]\n"
     ]
    }
   ],
   "source": [
    "numbers=[5,1,3,2,4]\n",
    "numbers.sort()\n",
    "print(numbers)"
   ]
  },
  {
   "cell_type": "code",
   "execution_count": 24,
   "id": "792c37a5",
   "metadata": {},
   "outputs": [
    {
     "name": "stdout",
     "output_type": "stream",
     "text": [
      "[5, 4, 3, 2, 1]\n"
     ]
    }
   ],
   "source": [
    "numbers.sort(reverse=True)\n",
    "print(numbers)"
   ]
  },
  {
   "cell_type": "markdown",
   "id": "91e5675b",
   "metadata": {},
   "source": [
    "# Nested List"
   ]
  },
  {
   "cell_type": "code",
   "execution_count": 25,
   "id": "89732f7b",
   "metadata": {},
   "outputs": [
    {
     "name": "stdout",
     "output_type": "stream",
     "text": [
      "[[1, 2, 3], [4, 5, 6], [7, 8, 9]]\n"
     ]
    }
   ],
   "source": [
    "nested_list =[[1,2,3],[4,5,6],[7,8,9]]\n",
    "print(nested_list)"
   ]
  },
  {
   "cell_type": "markdown",
   "id": "0164b87d",
   "metadata": {},
   "source": [
    "# Counting"
   ]
  },
  {
   "cell_type": "code",
   "execution_count": 26,
   "id": "31ee6eba",
   "metadata": {},
   "outputs": [
    {
     "name": "stdout",
     "output_type": "stream",
     "text": [
      "3\n"
     ]
    }
   ],
   "source": [
    "numbers=[1,2,3,4,2,2,5]\n",
    "count=numbers.count(2) # returns the number of times a specified value occurs in the list\n",
    "print(count)"
   ]
  },
  {
   "cell_type": "markdown",
   "id": "7c971da5",
   "metadata": {},
   "source": [
    "# Maximum Minimum Sum"
   ]
  },
  {
   "cell_type": "code",
   "execution_count": 27,
   "id": "d90b3dd4",
   "metadata": {},
   "outputs": [
    {
     "name": "stdout",
     "output_type": "stream",
     "text": [
      "5\n",
      "1\n",
      "19\n"
     ]
    }
   ],
   "source": [
    "numbers=[1,2,3,4,2,2,5]\n",
    "\n",
    "print(max(numbers))\n",
    "print(min(numbers))\n",
    "print(sum(numbers))"
   ]
  },
  {
   "cell_type": "code",
   "execution_count": 2,
   "id": "ee0b7c07",
   "metadata": {},
   "outputs": [
    {
     "name": "stdout",
     "output_type": "stream",
     "text": [
      "[5, 3, 9, 1, 7]\n"
     ]
    }
   ],
   "source": [
    "# Write a program to swap first and last elements in a list\n",
    "mylist=[5,3,9,1,7]\n",
    "output=[7,3,9,1,5]\n",
    "# answer\n",
    "x=mylist[0]\n",
    "y=mylist[-1]\n",
    "\n",
    "mylist[0]=y\n",
    "mylist[-1]=x\n",
    "#or\n",
    "mylist[0],mylist[-1]=mylist[-1],mylist[0]\n",
    "print(mylist)"
   ]
  },
  {
   "cell_type": "markdown",
   "id": "49c70d2d",
   "metadata": {},
   "source": [
    "# 31/01/2024"
   ]
  },
  {
   "cell_type": "markdown",
   "id": "9d486d69",
   "metadata": {},
   "source": [
    "# Tuple"
   ]
  },
  {
   "cell_type": "code",
   "execution_count": 2,
   "id": "1ef87dfc",
   "metadata": {},
   "outputs": [
    {
     "name": "stdout",
     "output_type": "stream",
     "text": [
      "(1, 2, 3, 4, 5)\n",
      "('apple', 'banana', 'cherry')\n",
      "(1, 'hello', 3.14, True)\n"
     ]
    }
   ],
   "source": [
    "# example of a tuple of numbers\n",
    "numbers=(1,2,3,4,5)\n",
    "\n",
    "# example of a mixed-type tuple\n",
    "fruits=(\"apple\",\"banana\",\"cherry\")\n",
    "\n",
    "# example of a mixed-type tuple\n",
    "mixed=(1,\"hello\",3.14,True)\n",
    "\n",
    "print(numbers)\n",
    "print(fruits)\n",
    "print(mixed)"
   ]
  },
  {
   "cell_type": "markdown",
   "id": "f6696873",
   "metadata": {},
   "source": [
    "# Accessing Elements"
   ]
  },
  {
   "cell_type": "code",
   "execution_count": 3,
   "id": "2d924df0",
   "metadata": {},
   "outputs": [
    {
     "name": "stdout",
     "output_type": "stream",
     "text": [
      "1\n",
      "2\n"
     ]
    }
   ],
   "source": [
    "numbers=(1,2,3,4,5)\n",
    "\n",
    "first_element=numbers[0]\n",
    "second_element=numbers[1]\n",
    "\n",
    "print(first_element)\n",
    "print(second_element)"
   ]
  },
  {
   "cell_type": "markdown",
   "id": "42742609",
   "metadata": {},
   "source": [
    "# Immutablility of Tuples\n",
    "#### tuples are immutable,which means you cannot change the values of the elements after the tuple is created.This makes tuples useful for situation where we want to ensure that the data remains constant."
   ]
  },
  {
   "cell_type": "code",
   "execution_count": 4,
   "id": "4dc04435",
   "metadata": {},
   "outputs": [
    {
     "ename": "TypeError",
     "evalue": "'tuple' object does not support item assignment",
     "output_type": "error",
     "traceback": [
      "\u001b[1;31m---------------------------------------------------------------------------\u001b[0m",
      "\u001b[1;31mTypeError\u001b[0m                                 Traceback (most recent call last)",
      "Cell \u001b[1;32mIn[4], line 2\u001b[0m\n\u001b[0;32m      1\u001b[0m numbers\u001b[38;5;241m=\u001b[39m(\u001b[38;5;241m1\u001b[39m,\u001b[38;5;241m2\u001b[39m,\u001b[38;5;241m3\u001b[39m)\n\u001b[1;32m----> 2\u001b[0m numbers[\u001b[38;5;241m0\u001b[39m]\u001b[38;5;241m=\u001b[39m\u001b[38;5;241m10\u001b[39m\n",
      "\u001b[1;31mTypeError\u001b[0m: 'tuple' object does not support item assignment"
     ]
    }
   ],
   "source": [
    "numbers=(1,2,3)\n",
    "numbers[0]=10"
   ]
  },
  {
   "cell_type": "markdown",
   "id": "69f990b9",
   "metadata": {},
   "source": [
    "# Update Tuples"
   ]
  },
  {
   "cell_type": "code",
   "execution_count": 5,
   "id": "4140d868",
   "metadata": {},
   "outputs": [
    {
     "name": "stdout",
     "output_type": "stream",
     "text": [
      "('apple', 'kiwi', 'cherry')\n"
     ]
    }
   ],
   "source": [
    "x=(\"apple\",\"banana\",\"cherry\")\n",
    "y=list(x)\n",
    "y[1]=\"kiwi\"\n",
    "x=tuple(y)\n",
    "\n",
    "print(x)"
   ]
  },
  {
   "cell_type": "markdown",
   "id": "66eb00b1",
   "metadata": {},
   "source": [
    "# Add items "
   ]
  },
  {
   "cell_type": "code",
   "execution_count": 6,
   "id": "ed2147cc",
   "metadata": {},
   "outputs": [
    {
     "name": "stdout",
     "output_type": "stream",
     "text": [
      "('apple', 'banana', 'cherry', 'orange')\n"
     ]
    }
   ],
   "source": [
    "mytuple=(\"apple\",\"banana\",\"cherry\")\n",
    "y=list(mytuple)\n",
    "y.append(\"orange\")\n",
    "mytuple=tuple(y)\n",
    "print(mytuple)"
   ]
  },
  {
   "cell_type": "code",
   "execution_count": 8,
   "id": "a2801a2c",
   "metadata": {},
   "outputs": [
    {
     "name": "stdout",
     "output_type": "stream",
     "text": [
      "('apple', 'banana', 'cherry', 'orange')\n"
     ]
    }
   ],
   "source": [
    "mytuple=(\"apple\",\"banana\",\"cherry\")\n",
    "y=(\"orange\",)\n",
    "mytuple += y\n",
    "\n",
    "print(mytuple)"
   ]
  },
  {
   "cell_type": "markdown",
   "id": "c151bb0d",
   "metadata": {},
   "source": [
    "# unpacking a tuple"
   ]
  },
  {
   "cell_type": "code",
   "execution_count": 9,
   "id": "77f0149c",
   "metadata": {},
   "outputs": [
    {
     "name": "stdout",
     "output_type": "stream",
     "text": [
      "apple\n",
      "banana\n",
      "cherry\n"
     ]
    }
   ],
   "source": [
    "fruits=(\"apple\",\"banana\",\"cherry\")\n",
    "x,y,z=fruits\n",
    "print(x)\n",
    "print(y)\n",
    "print(z)"
   ]
  },
  {
   "cell_type": "code",
   "execution_count": 10,
   "id": "01710055",
   "metadata": {},
   "outputs": [
    {
     "name": "stdout",
     "output_type": "stream",
     "text": [
      "apple\n",
      "['banana', 'cherry', 'mango', 'jackfruit', 'melon']\n",
      "kiwi\n"
     ]
    }
   ],
   "source": [
    "fruits=(\"apple\",\"banana\",\"cherry\",\"mango\",\"jackfruit\",\"melon\",\"kiwi\")\n",
    "x,*y,z=fruits\n",
    "print(x)\n",
    "print(y)\n",
    "print(z)"
   ]
  },
  {
   "cell_type": "code",
   "execution_count": 12,
   "id": "08ad52d6",
   "metadata": {},
   "outputs": [
    {
     "name": "stdout",
     "output_type": "stream",
     "text": [
      "apple\n",
      "banana\n",
      "['cherry', 'mango', 'jackfruit', 'melon']\n",
      "kiwi\n"
     ]
    }
   ],
   "source": [
    "fruits=(\"apple\",\"banana\",\"cherry\",\"mango\",\"jackfruit\",\"melon\",\"kiwi\")\n",
    "x,y,*z,p=fruits\n",
    "print(x)\n",
    "print(y)\n",
    "print(z)\n",
    "print(p)"
   ]
  },
  {
   "cell_type": "markdown",
   "id": "cc7a51d2",
   "metadata": {},
   "source": [
    "# set"
   ]
  },
  {
   "cell_type": "markdown",
   "id": "d38af46b",
   "metadata": {},
   "source": [
    "# Add items (set denote by { })"
   ]
  },
  {
   "cell_type": "code",
   "execution_count": 19,
   "id": "19fb9114",
   "metadata": {},
   "outputs": [
    {
     "data": {
      "text/plain": [
       "{6}"
      ]
     },
     "execution_count": 19,
     "metadata": {},
     "output_type": "execute_result"
    }
   ],
   "source": [
    "x=set()\n",
    "x.add(6)\n",
    "x"
   ]
  },
  {
   "cell_type": "code",
   "execution_count": 18,
   "id": "92254352",
   "metadata": {},
   "outputs": [
    {
     "name": "stdout",
     "output_type": "stream",
     "text": [
      "{'banana', 'orange', 'apple', 'cherry'}\n"
     ]
    }
   ],
   "source": [
    "set1={\"apple\",\"banana\",\"cherry\"}\n",
    "set1.add(\"orange\")\n",
    "print(set1)"
   ]
  },
  {
   "cell_type": "code",
   "execution_count": 16,
   "id": "2c3e7032",
   "metadata": {},
   "outputs": [
    {
     "name": "stdout",
     "output_type": "stream",
     "text": [
      "{'banana', 'mango', 'pineapple', 'apple', 'cherry', 'papaya'}\n"
     ]
    }
   ],
   "source": [
    "set1={\"apple\",\"banana\",\"cherry\"}\n",
    "set2={\"pineapple\",\"mango\",\"papaya\"}\n",
    "\n",
    "set1.update(set2)\n",
    "\n",
    "print(set1)"
   ]
  },
  {
   "cell_type": "markdown",
   "id": "eb9665c2",
   "metadata": {},
   "source": [
    "# remove Set items"
   ]
  },
  {
   "cell_type": "code",
   "execution_count": 20,
   "id": "d9557fe1",
   "metadata": {},
   "outputs": [
    {
     "name": "stdout",
     "output_type": "stream",
     "text": [
      "{'apple', 'cherry'}\n"
     ]
    }
   ],
   "source": [
    "myset={\"apple\",\"banana\",\"cherry\"}\n",
    "myset.remove(\"banana\")\n",
    "print(myset)"
   ]
  },
  {
   "cell_type": "code",
   "execution_count": 21,
   "id": "9e48ce80",
   "metadata": {},
   "outputs": [
    {
     "name": "stdout",
     "output_type": "stream",
     "text": [
      "{'apple', 'cherry'}\n"
     ]
    }
   ],
   "source": [
    "myset={\"apple\",\"banana\",\"cherry\"}\n",
    "myset.discard(\"banana\")\n",
    "print(myset)"
   ]
  },
  {
   "cell_type": "code",
   "execution_count": 22,
   "id": "c09a6b3e",
   "metadata": {},
   "outputs": [
    {
     "name": "stdout",
     "output_type": "stream",
     "text": [
      "{'apple', 'cherry'}\n"
     ]
    }
   ],
   "source": [
    "myset={\"apple\",\"banana\",\"cherry\"}\n",
    "myset.pop()\n",
    "print(myset)"
   ]
  },
  {
   "cell_type": "markdown",
   "id": "6d4db631",
   "metadata": {},
   "source": [
    "# set operations"
   ]
  },
  {
   "cell_type": "code",
   "execution_count": 23,
   "id": "f7607127",
   "metadata": {},
   "outputs": [
    {
     "name": "stdout",
     "output_type": "stream",
     "text": [
      "{1, 2, 3, 4, 5}\n"
     ]
    }
   ],
   "source": [
    "set1={1,2,3}\n",
    "set2={3,4,5}\n",
    "union_set=set1.union(set2) #Returns a new set containing all unique elements from both sets.\n",
    "print(union_set)"
   ]
  },
  {
   "cell_type": "code",
   "execution_count": 24,
   "id": "3a14d43d",
   "metadata": {},
   "outputs": [
    {
     "name": "stdout",
     "output_type": "stream",
     "text": [
      "{3}\n"
     ]
    }
   ],
   "source": [
    "set1={1,2,3}\n",
    "set2={3,4,5}\n",
    "intersection_set=set1.intersection(set2) # Returns a new set containing elements that are present in both sets.\n",
    "print(intersection_set)"
   ]
  },
  {
   "cell_type": "code",
   "execution_count": 26,
   "id": "956e102a",
   "metadata": {},
   "outputs": [
    {
     "name": "stdout",
     "output_type": "stream",
     "text": [
      "{1, 2}\n"
     ]
    }
   ],
   "source": [
    "set1={1,2,3}\n",
    "set2={3,4,5}\n",
    "difference_set=set1.difference(set2) # returns a new set containing elements that are present in the first set but not in second set\n",
    "print(difference_set)"
   ]
  },
  {
   "cell_type": "code",
   "execution_count": 27,
   "id": "399c829d",
   "metadata": {},
   "outputs": [
    {
     "name": "stdout",
     "output_type": "stream",
     "text": [
      "{1, 2, 4, 5}\n"
     ]
    }
   ],
   "source": [
    "set1={1,2,3}\n",
    "set2={3,4,5}\n",
    "symmetric_difference_set=set1.symmetric_difference(set2) # returns a  new set containing elements that are in either\n",
    "print(symmetric_difference_set)"
   ]
  },
  {
   "cell_type": "code",
   "execution_count": null,
   "id": "af345eed",
   "metadata": {},
   "outputs": [],
   "source": []
  }
 ],
 "metadata": {
  "kernelspec": {
   "display_name": "Python 3 (ipykernel)",
   "language": "python",
   "name": "python3"
  },
  "language_info": {
   "codemirror_mode": {
    "name": "ipython",
    "version": 3
   },
   "file_extension": ".py",
   "mimetype": "text/x-python",
   "name": "python",
   "nbconvert_exporter": "python",
   "pygments_lexer": "ipython3",
   "version": "3.11.5"
  }
 },
 "nbformat": 4,
 "nbformat_minor": 5
}
