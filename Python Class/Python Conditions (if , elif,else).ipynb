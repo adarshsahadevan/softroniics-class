{
 "cells": [
  {
   "cell_type": "markdown",
   "id": "dd90677f",
   "metadata": {},
   "source": [
    "# 1) Python if statement"
   ]
  },
  {
   "cell_type": "code",
   "execution_count": 2,
   "id": "946d2475",
   "metadata": {},
   "outputs": [
    {
     "name": "stdout",
     "output_type": "stream",
     "text": [
      "b is greater than a\n",
      "condition checked\n"
     ]
    }
   ],
   "source": [
    "a=209\n",
    "b=210\n",
    "\n",
    "if(b>a):\n",
    "    print(\"b is greater than a\")\n",
    "\n",
    "print(\"condition checked\")"
   ]
  },
  {
   "cell_type": "code",
   "execution_count": 3,
   "id": "71cdab50",
   "metadata": {},
   "outputs": [
    {
     "name": "stdout",
     "output_type": "stream",
     "text": [
      "b is greater than a\n",
      "condition checked\n"
     ]
    }
   ],
   "source": [
    "a=208\n",
    "b=208\n",
    "\n",
    "if(b>a or b==a):\n",
    "    print(\"b is greater than a\")\n",
    " \n",
    "print(\"condition checked\")"
   ]
  },
  {
   "cell_type": "markdown",
   "id": "95b17b8e",
   "metadata": {},
   "source": [
    "# 2) Python if..else statement"
   ]
  },
  {
   "cell_type": "code",
   "execution_count": 4,
   "id": "b4b2f2b2",
   "metadata": {},
   "outputs": [
    {
     "name": "stdout",
     "output_type": "stream",
     "text": [
      "a is greater than b\n"
     ]
    }
   ],
   "source": [
    "a=500\n",
    "b=330\n",
    "if b>a:\n",
    "    print(\"b is greater than a\")\n",
    "else:\n",
    "    print(\"a is greater than b\")"
   ]
  },
  {
   "cell_type": "code",
   "execution_count": 5,
   "id": "fe15ca07",
   "metadata": {},
   "outputs": [
    {
     "name": "stdout",
     "output_type": "stream",
     "text": [
      "number\n"
     ]
    }
   ],
   "source": [
    "x=5\n",
    "y=\"hello\"\n",
    "typ=type(x)\n",
    "\n",
    "if typ==int:\n",
    "    print(\"number\")\n",
    "else:\n",
    "    print(\"string\")"
   ]
  },
  {
   "cell_type": "code",
   "execution_count": 7,
   "id": "3d43336b",
   "metadata": {},
   "outputs": [
    {
     "name": "stdout",
     "output_type": "stream",
     "text": [
      "first number:5\n",
      "second number5\n",
      "a and b are equal\n"
     ]
    }
   ],
   "source": [
    "a=int(input(\"first number:\"))\n",
    "b=int(input(\"second number\"))\n",
    "\n",
    "if b>a:\n",
    "    print(\"b is greater than a\")\n",
    "elif a>b:\n",
    "    print(\"a is greater than b\")  # elif can be assigned unlimited times\n",
    "else:\n",
    "    print(\"a and b are equal\")  # no need of assign for else , it will automaticaly run "
   ]
  },
  {
   "cell_type": "code",
   "execution_count": 10,
   "id": "6378a6a8",
   "metadata": {},
   "outputs": [
    {
     "name": "stdout",
     "output_type": "stream",
     "text": [
      "enter a num:-1\n",
      "x is negative\n"
     ]
    }
   ],
   "source": [
    "# write a python program to check a number taken from the user, is positive or negative?\n",
    "\n",
    "x=int(input(\"enter a num:\"))\n",
    "\n",
    "if x>0:\n",
    "    print(\"x is positive\")\n",
    "elif x<0:\n",
    "    print(\"x is negative\")"
   ]
  },
  {
   "cell_type": "code",
   "execution_count": 14,
   "id": "5a9a7360",
   "metadata": {},
   "outputs": [
    {
     "name": "stdout",
     "output_type": "stream",
     "text": [
      "enter your mark:40\n",
      "You Failed ,Go and study well\n"
     ]
    }
   ],
   "source": [
    "# write a program to accept the mark from the user and print the grade.\n",
    "# marks        grade\n",
    "# >90           A\n",
    "# 90-80         B\n",
    "# 80-70         C\n",
    "# 70-60         D\n",
    "# <60           Failed\n",
    "\n",
    "x=int(input(\"enter your mark:\"))\n",
    "if x>90:\n",
    "    print(\"Your grade is A\")\n",
    "elif x>80 and x<90:\n",
    "    print(\"Your grade is B\")\n",
    "elif x>70 and x<80:\n",
    "    print(\"Your grade is C\")\n",
    "elif x>60 and x<70: \n",
    "    print(\"Your grade is D\")\n",
    "    \n",
    "elif x<60:\n",
    "    print(\"You Failed ,Go and study well\")"
   ]
  },
  {
   "cell_type": "markdown",
   "id": "fcdbdb40",
   "metadata": {},
   "source": [
    "# Python while loop"
   ]
  },
  {
   "cell_type": "markdown",
   "id": "06917283",
   "metadata": {},
   "source": [
    "## while condition:"
   ]
  },
  {
   "cell_type": "markdown",
   "id": "9c5a7462",
   "metadata": {},
   "source": [
    "###          body of while loop"
   ]
  },
  {
   "cell_type": "code",
   "execution_count": 1,
   "id": "e267c111",
   "metadata": {},
   "outputs": [
    {
     "name": "stdout",
     "output_type": "stream",
     "text": [
      "1\n",
      "2\n",
      "3\n",
      "4\n",
      "5\n",
      "Finished\n"
     ]
    }
   ],
   "source": [
    "# program to display numbers from 1 to 5\n",
    "\n",
    "# initialize the variable\n",
    "i=1\n",
    "n=5\n",
    "\n",
    "# while loop from i=1 to 5\n",
    "while i<=n:\n",
    "    print(i)\n",
    "    i=i+1\n",
    "print(\"Finished\")    "
   ]
  },
  {
   "cell_type": "code",
   "execution_count": 2,
   "id": "2a72cf61",
   "metadata": {},
   "outputs": [
    {
     "name": "stdout",
     "output_type": "stream",
     "text": [
      "Total:  5050\n"
     ]
    }
   ],
   "source": [
    "# Write a while loop that adds all the numbers up to 100(inclusive)\n",
    "i=1\n",
    "n=100\n",
    "\n",
    "total=0\n",
    "\n",
    "while i<=n:\n",
    "    total=total+i\n",
    "    i=i+1\n",
    "    \n",
    "print(\"Total: \",total)    "
   ]
  },
  {
   "cell_type": "code",
   "execution_count": 4,
   "id": "77f5d592",
   "metadata": {},
   "outputs": [
    {
     "name": "stdout",
     "output_type": "stream",
     "text": [
      "enter a number: 365\n",
      "num: 365\n",
      "rem: 5\n",
      "rev: 5\n",
      "--------------------\n",
      "num: 36\n",
      "rem: 6\n",
      "rev: 56\n",
      "--------------------\n",
      "num: 3\n",
      "rem: 3\n",
      "rev: 563\n",
      "--------------------\n",
      "The reversed number is: 563\n"
     ]
    }
   ],
   "source": [
    "# Write a python program to reverse a number.\n",
    "\n",
    "num=int(input(\"enter a number: \"))\n",
    "rev=0\n",
    "\n",
    "\n",
    "while (num !=0):\n",
    "    print(\"num:\",num)\n",
    "    rem=num % 10\n",
    "    print(\"rem:\",rem)\n",
    "    rev=rev * 10 + rem\n",
    "    print(\"rev:\",rev)\n",
    "    num=num//10 # floor division gives the integer of the result , for eg num/10=36.5 but num//10=36 \n",
    "    print(\"--------------------\")\n",
    "print(\"The reversed number is:\",rev)    "
   ]
  },
  {
   "cell_type": "code",
   "execution_count": 28,
   "id": "c461e4d0",
   "metadata": {},
   "outputs": [
    {
     "name": "stdout",
     "output_type": "stream",
     "text": [
      "10\n",
      "9\n",
      "8\n",
      "7\n",
      "6\n",
      "5\n",
      "4\n",
      "3\n",
      "2\n",
      "1\n"
     ]
    }
   ],
   "source": [
    "# Write a program to print a natural number in descending order using a while loop for  given range (1 to 10) \n",
    "\n",
    "i=1\n",
    "n=10\n",
    "\n",
    "while n>=i:\n",
    "    print(n)\n",
    "    n=n-1"
   ]
  },
  {
   "cell_type": "code",
   "execution_count": 6,
   "id": "286ca9dc",
   "metadata": {},
   "outputs": [
    {
     "name": "stdout",
     "output_type": "stream",
     "text": [
      "5\n",
      "2\n",
      "8\n",
      "3\n",
      "8\n"
     ]
    }
   ],
   "source": [
    "# Looping through list\n",
    "\n",
    "mylist =[5,2,8,3,8]\n",
    "\n",
    "i=0\n",
    "\n",
    "while i<len(mylist): # for len equal cannot give because it is to run list so while indexing it start frm 0,1.. but length start frm 1. \n",
    "    print(mylist[i])\n",
    "    i=i+1 # i is index accessing"
   ]
  },
  {
   "cell_type": "code",
   "execution_count": 7,
   "id": "8b7c77be",
   "metadata": {},
   "outputs": [
    {
     "name": "stdout",
     "output_type": "stream",
     "text": [
      "[25, 4, 64, 9, 64]\n"
     ]
    }
   ],
   "source": [
    "# print squares of list given\n",
    "mylist=[5,2,8,3,8]\n",
    "\n",
    "i=0\n",
    "list2=[]\n",
    "\n",
    "while i<len(mylist):\n",
    "    x=mylist[i]*mylist[i]\n",
    "    list2.append(x)\n",
    "    i=i+1\n",
    "    \n",
    "print(list2)    "
   ]
  },
  {
   "cell_type": "code",
   "execution_count": 10,
   "id": "2a9e0bc5",
   "metadata": {},
   "outputs": [
    {
     "name": "stdout",
     "output_type": "stream",
     "text": [
      "enter a number:8\n",
      "enter a number:7\n",
      "enter a number:5\n",
      "enter a number:2\n",
      "enter a number:0\n",
      "total= 22\n"
     ]
    }
   ],
   "source": [
    "# program to calculate the sum of numbers\n",
    "# until the user enters zero\n",
    "\n",
    "total=0\n",
    "number= int(input(\"enter a number:\"))\n",
    "\n",
    "#add numbers until number is zero\n",
    "while number !=0:\n",
    "    total += number  # total = total + number\n",
    "    # take integer input again\n",
    "    number=int(input(\"enter a number:\"))\n",
    "    \n",
    "print(\"total=\",total)    "
   ]
  },
  {
   "cell_type": "code",
   "execution_count": 12,
   "id": "ae8e49e5",
   "metadata": {},
   "outputs": [
    {
     "name": "stdout",
     "output_type": "stream",
     "text": [
      "enter a number;5\n",
      "factorial of 5 is 120\n"
     ]
    }
   ],
   "source": [
    "# Factorial Program\n",
    "\n",
    "num= int(input(\"enter a number;\"))\n",
    "fac=1\n",
    "i=1\n",
    "while i<=num:\n",
    "    fac=fac*i\n",
    "    i=i+1\n",
    "    \n",
    "print(\"factorial of\",num,\"is\",fac)    "
   ]
  },
  {
   "cell_type": "markdown",
   "id": "14f706f5",
   "metadata": {},
   "source": [
    "# python while loop with else"
   ]
  },
  {
   "cell_type": "code",
   "execution_count": 14,
   "id": "1b5220ba",
   "metadata": {},
   "outputs": [
    {
     "name": "stdout",
     "output_type": "stream",
     "text": [
      "inside loop\n",
      "inside loop\n",
      "inside loop\n",
      "inside loop\n",
      "outside else\n"
     ]
    }
   ],
   "source": [
    "counter=0\n",
    "\n",
    "while counter<=3:\n",
    "    print(\"inside loop\")\n",
    "    counter=counter+1\n",
    "else:\n",
    "    print(\"outside else\")"
   ]
  },
  {
   "cell_type": "markdown",
   "id": "31fafcb1",
   "metadata": {},
   "source": [
    "# The Break Statement\n",
    "### With the break statement we can stop the loop even if the while condition is true:"
   ]
  },
  {
   "cell_type": "code",
   "execution_count": 8,
   "id": "97b5002e",
   "metadata": {},
   "outputs": [
    {
     "name": "stdout",
     "output_type": "stream",
     "text": [
      "1\n",
      "2\n",
      "3\n",
      "4\n",
      "16\n"
     ]
    }
   ],
   "source": [
    "i=1\n",
    "while i < 8:\n",
    "    print(i)\n",
    "    if i == 4:\n",
    "        print(i*i) # = is an assignment operator that assigns the value on the right to the variable on the left. For example, x = 5 means that the variable x has the value of 5. == is a comparison operator that checks whether the two operands are equal or not. For example, x == 5 means that the expression is true if x has the value of 5, and false otherwise. You can use == to test the equality of variables, values, or expressions.\n",
    "\n",
    "\n",
    "        break\n",
    "    i +=1   "
   ]
  },
  {
   "cell_type": "markdown",
   "id": "87dc2966",
   "metadata": {},
   "source": [
    "# The continue Statement\n",
    "\n",
    "### with the continue statement we can stop the current iteration, and continue with the next:"
   ]
  },
  {
   "cell_type": "code",
   "execution_count": 8,
   "id": "789148e4",
   "metadata": {},
   "outputs": [
    {
     "name": "stdout",
     "output_type": "stream",
     "text": [
      "1\n",
      "2\n",
      "3\n",
      "4\n",
      "5\n",
      "6\n",
      "8\n",
      "9\n",
      "10\n",
      "11\n",
      "12\n",
      "13\n",
      "14\n",
      "15\n",
      "16\n",
      "18\n",
      "19\n",
      "20\n",
      "21\n",
      "22\n",
      "23\n",
      "25\n",
      "26\n",
      "27\n",
      "28\n",
      "29\n",
      "31\n",
      "32\n"
     ]
    }
   ],
   "source": [
    "i=0\n",
    "\n",
    "lst=[30,17,24,43,7]\n",
    "while i < 32:\n",
    "    i += 1\n",
    "    if i in lst:\n",
    "        continue\n",
    "    print(i)    "
   ]
  },
  {
   "cell_type": "markdown",
   "id": "5b8b5d88",
   "metadata": {},
   "source": [
    "### Write a program to take input a variable length and element for the list from user and seperate the odd and even numbers from it "
   ]
  },
  {
   "cell_type": "code",
   "execution_count": 1,
   "id": "2e323163",
   "metadata": {},
   "outputs": [
    {
     "name": "stdout",
     "output_type": "stream",
     "text": [
      "enter the length of the list:5\n",
      "enter a number;4\n",
      "enter a number;2\n",
      "enter a number;1\n",
      "enter a number;3\n",
      "enter a number;6\n",
      "[4, 2, 1, 3, 6]\n",
      "[4, 2, 6] even\n",
      "[1, 3] odd\n"
     ]
    }
   ],
   "source": [
    "length=int(input(\"enter the length of the list:\"))\n",
    "i=0\n",
    "list1=[]\n",
    "while i<length:\n",
    "    num=int(input(\"enter a number;\"))\n",
    "    i += 1\n",
    "    list1.append(num)\n",
    "print(list1)\n",
    "list2=[]\n",
    "list3=[]\n",
    "for num in list1:\n",
    "    if num  %2 ==0:\n",
    "        list2.append(num)\n",
    "    else:\n",
    "        list3.append(num)\n",
    "        \n",
    "print(list2,\"even\")\n",
    "print(list3,\"odd\")\n"
   ]
  },
  {
   "cell_type": "markdown",
   "id": "ce3c703b",
   "metadata": {},
   "source": [
    "# 05/02/2024"
   ]
  },
  {
   "cell_type": "markdown",
   "id": "3b4100d3",
   "metadata": {},
   "source": [
    "# Python FOR loop"
   ]
  },
  {
   "cell_type": "code",
   "execution_count": 1,
   "id": "bf6cfb47",
   "metadata": {},
   "outputs": [
    {
     "name": "stdout",
     "output_type": "stream",
     "text": [
      "b\n",
      "a\n",
      "n\n",
      "a\n",
      "n\n",
      "a\n"
     ]
    }
   ],
   "source": [
    "for x in \"banana\":\n",
    "    print(x)"
   ]
  },
  {
   "cell_type": "code",
   "execution_count": 2,
   "id": "83f4fa5a",
   "metadata": {},
   "outputs": [
    {
     "name": "stdout",
     "output_type": "stream",
     "text": [
      "apple\n",
      "kiwi\n"
     ]
    }
   ],
   "source": [
    "fruits=[\"apple\",\"kiwi\",\"banana\",\"cherry\"]\n",
    "for x in fruits:\n",
    "    if x==\"banana\":\n",
    "        break\n",
    "    print(x)    "
   ]
  },
  {
   "cell_type": "code",
   "execution_count": 3,
   "id": "a581d49f",
   "metadata": {},
   "outputs": [
    {
     "name": "stdout",
     "output_type": "stream",
     "text": [
      "apple\n",
      "kiwi\n",
      "cherry\n"
     ]
    }
   ],
   "source": [
    "fruits=[\"apple\",\"kiwi\",\"banana\",\"cherry\"]\n",
    "for x in fruits:\n",
    "    if x==\"banana\":\n",
    "        continue\n",
    "    print(x)    "
   ]
  },
  {
   "cell_type": "markdown",
   "id": "97846e87",
   "metadata": {},
   "source": [
    "# Range"
   ]
  },
  {
   "cell_type": "code",
   "execution_count": 4,
   "id": "306408ae",
   "metadata": {},
   "outputs": [
    {
     "name": "stdout",
     "output_type": "stream",
     "text": [
      "0\n",
      "1\n",
      "2\n",
      "3\n",
      "4\n",
      "5\n",
      "6\n",
      "7\n",
      "8\n",
      "9\n"
     ]
    }
   ],
   "source": [
    "for x in range (10):\n",
    "    print(x)"
   ]
  },
  {
   "cell_type": "code",
   "execution_count": 5,
   "id": "0ba590bc",
   "metadata": {},
   "outputs": [
    {
     "name": "stdout",
     "output_type": "stream",
     "text": [
      "2\n",
      "3\n",
      "4\n",
      "5\n",
      "6\n",
      "7\n",
      "8\n",
      "9\n"
     ]
    }
   ],
   "source": [
    "for x in range (2,10):\n",
    "    print(x)"
   ]
  },
  {
   "cell_type": "code",
   "execution_count": 6,
   "id": "be2f4687",
   "metadata": {},
   "outputs": [
    {
     "name": "stdout",
     "output_type": "stream",
     "text": [
      "2\n",
      "7\n",
      "12\n",
      "17\n"
     ]
    }
   ],
   "source": [
    "for x in range (2,20,5):\n",
    "    print(x)"
   ]
  },
  {
   "cell_type": "code",
   "execution_count": 9,
   "id": "7b1b3120",
   "metadata": {},
   "outputs": [
    {
     "name": "stdout",
     "output_type": "stream",
     "text": [
      "0\n",
      "1\n",
      "2\n",
      "3\n",
      "4\n",
      "5\n",
      "finished!\n"
     ]
    }
   ],
   "source": [
    "# The else keyword in a for loop specifies a block of code to be executed when the loop\n",
    "for x in range (6):\n",
    "    print(x)\n",
    "else:\n",
    "    print(\"finished!\")"
   ]
  },
  {
   "cell_type": "markdown",
   "id": "318030a8",
   "metadata": {},
   "source": [
    "# Nested Loops"
   ]
  },
  {
   "cell_type": "code",
   "execution_count": 7,
   "id": "e1b3c487",
   "metadata": {},
   "outputs": [
    {
     "name": "stdout",
     "output_type": "stream",
     "text": [
      "red apple\n",
      "red banana\n",
      "red cherry\n",
      "-------\n",
      "big apple\n",
      "big banana\n",
      "big cherry\n",
      "-------\n",
      "tasty apple\n",
      "tasty banana\n",
      "tasty cherry\n",
      "-------\n"
     ]
    }
   ],
   "source": [
    "colors =[\"red\",\"big\",\"tasty\"]\n",
    "fruits=[\"apple\",\"banana\",\"cherry\"]\n",
    "\n",
    "for x in colors:\n",
    "    for y in fruits:\n",
    "        print(x,y)\n",
    "    print(\"-------\")   "
   ]
  },
  {
   "cell_type": "code",
   "execution_count": 3,
   "id": "36399f43",
   "metadata": {},
   "outputs": [
    {
     "name": "stdout",
     "output_type": "stream",
     "text": [
      "The sum of squares is: 774\n"
     ]
    }
   ],
   "source": [
    "# code to find the sum of squares of each element of the list using for loop\n",
    "\n",
    "# creating the list of numbers\n",
    "numbers=[3,5,23,6,5,1,2,9,8]\n",
    "\n",
    "# initializing a variable that will store the sum\n",
    "sum_=0\n",
    "# using for a loop to iterate over the list\n",
    "for num in numbers:\n",
    "    sqr=num**2\n",
    "    sum_=sum_+sqr\n",
    "print(\"The sum of squares is:\",sum_)   "
   ]
  },
  {
   "cell_type": "code",
   "execution_count": 21,
   "id": "7689f7bb",
   "metadata": {},
   "outputs": [
    {
     "name": "stdout",
     "output_type": "stream",
     "text": [
      "11 is a prime number\n",
      "13 is a prime number\n",
      "17 is a prime number\n",
      "19 is a prime number\n"
     ]
    }
   ],
   "source": [
    "# searches for prime numbers from 10 through 20.\n",
    "for num in range (10,20): # to iterate between 10 to 20\n",
    "    for i in range (2,num): # to iterate on the factors of the number\n",
    "        if num%i ==0:  # to determine the first factor\n",
    "            break   # to move to next number, the #first FOR\n",
    "    else:\n",
    "        print(num,\"is a prime number\")"
   ]
  },
  {
   "cell_type": "code",
   "execution_count": 9,
   "id": "d8ab0492",
   "metadata": {},
   "outputs": [
    {
     "name": "stdout",
     "output_type": "stream",
     "text": [
      "1 x 7 = 7\n",
      "2 x 7 = 14\n",
      "3 x 7 = 21\n",
      "4 x 7 = 28\n",
      "5 x 7 = 35\n",
      "6 x 7 = 42\n",
      "7 x 7 = 49\n",
      "8 x 7 = 56\n",
      "9 x 7 = 63\n",
      "10 x 7 = 70\n"
     ]
    }
   ],
   "source": [
    "# program to print multiplication table of a given number\n",
    "n=7\n",
    "# stop : 11 (because range never includes stop number in result)\n",
    "# run loop 10 times\n",
    "\n",
    "for i in range (1,11):\n",
    "    product =n*i\n",
    "    print(\"%d x %d = %d\" % (i,n,product))"
   ]
  },
  {
   "cell_type": "code",
   "execution_count": 9,
   "id": "237c713d",
   "metadata": {},
   "outputs": [
    {
     "name": "stdout",
     "output_type": "stream",
     "text": [
      "1 \n",
      "1 2 \n",
      "1 2 3 \n",
      "1 2 3 4 \n",
      "1 2 3 4 5 \n"
     ]
    }
   ],
   "source": [
    "# Decide the row count.(above pattern contains 5 rows)\n",
    "row = 5\n",
    "# start: 1\n",
    "# stop : row+1(range never include stop number in result)\n",
    "# step:1\n",
    "# run loop 5 times\n",
    "\n",
    "for i in range (1, row+1):\n",
    "    for j in range(1,i+1): # run inner loop i+1 times\n",
    "        print(j,end=\" \")\n",
    "    print( )        # empty lines after each row    "
   ]
  },
  {
   "cell_type": "code",
   "execution_count": 14,
   "id": "3aafe2a7",
   "metadata": {},
   "outputs": [
    {
     "name": "stdout",
     "output_type": "stream",
     "text": [
      "5 4 3 2 1 \n",
      "4 3 2 1 \n",
      "3 2 1 \n",
      "2 1 \n",
      "1 \n",
      "\n"
     ]
    }
   ],
   "source": [
    "n=5\n",
    "k=5\n",
    "for i in range (0,n+1):\n",
    "    for j in range (k-i,0,-1):\n",
    "        print(j,end=\" \")\n",
    "    print()    "
   ]
  },
  {
   "cell_type": "code",
   "execution_count": 14,
   "id": "c3f2f9e5",
   "metadata": {},
   "outputs": [
    {
     "name": "stdout",
     "output_type": "stream",
     "text": [
      "* * * * * \n",
      "* * * * \n",
      "* * * \n",
      "* * \n",
      "* \n",
      "\n"
     ]
    }
   ],
   "source": [
    "n=5\n",
    "k=5\n",
    "for i in range (0,n+1):\n",
    "    for j in range (k-i,0,-1):\n",
    "        print(\"*\",end=\" \")\n",
    "        #print(i,end=\" \")\n",
    "    print()    "
   ]
  },
  {
   "cell_type": "code",
   "execution_count": 17,
   "id": "f1bb53bc",
   "metadata": {},
   "outputs": [
    {
     "name": "stdout",
     "output_type": "stream",
     "text": [
      "*  \n",
      "* *  \n",
      "* * *  \n",
      "* * * *  \n",
      "* * * * *  \n",
      "* * * *  \n",
      "* * *  \n",
      "* *  \n",
      "*  \n",
      " \n"
     ]
    }
   ],
   "source": [
    "rows=5\n",
    "for i in range (0,rows):\n",
    "    for j in range (0,i+1):\n",
    "        print(\"*\",end=\" \")\n",
    "    print(\" \")    \n",
    "\n",
    "for i in range (row,0,-1):\n",
    "    for j in range (0,i-1):\n",
    "        print(\"*\",end=\" \")\n",
    "    print(\" \")        "
   ]
  },
  {
   "cell_type": "code",
   "execution_count": 24,
   "id": "571eef47",
   "metadata": {},
   "outputs": [
    {
     "name": "stdout",
     "output_type": "stream",
     "text": [
      "enter a string :I'm 24 years\n",
      "number of letters : 7\n",
      "number of digits : 2\n"
     ]
    }
   ],
   "source": [
    "# program that accepts a string and calculates the number of digits and letters.\n",
    "string_=input(\"enter a string :\")\n",
    "\n",
    "letters=0\n",
    "digits=0\n",
    "\n",
    "for i in string_:\n",
    "    if i.isalpha():\n",
    "        letters +=1\n",
    "    elif i.isdigit():\n",
    "        digits +=1\n",
    "    else:\n",
    "        pass\n",
    "print(\"number of letters :\",letters)    \n",
    "print(\"number of digits :\",digits)"
   ]
  },
  {
   "cell_type": "markdown",
   "id": "a9b777f4",
   "metadata": {},
   "source": [
    "# 07/02/2024"
   ]
  },
  {
   "cell_type": "markdown",
   "id": "d806b648",
   "metadata": {},
   "source": [
    "# List Comprehension"
   ]
  },
  {
   "cell_type": "code",
   "execution_count": 1,
   "id": "0c8cad80",
   "metadata": {},
   "outputs": [
    {
     "name": "stdout",
     "output_type": "stream",
     "text": [
      "['apple', 'banana', 'mango']\n"
     ]
    }
   ],
   "source": [
    "fruits=[\"apple\",\"banana\",\"cherry\",\"kiwi\",\"mango\"]\n",
    "newlist=[]\n",
    "for x in fruits:\n",
    "    if\"a\" in x:\n",
    "        newlist.append(x)\n",
    "print(newlist)        "
   ]
  },
  {
   "cell_type": "code",
   "execution_count": 2,
   "id": "c4892751",
   "metadata": {},
   "outputs": [
    {
     "name": "stdout",
     "output_type": "stream",
     "text": [
      "['apple', 'banana', 'mango']\n"
     ]
    }
   ],
   "source": [
    "fruits=[\"apple\",\"banana\",\"cherry\",\"kiwi\",\"mango\"]\n",
    "\n",
    "newlist=[x for x in fruits if \"a\" in x]\n",
    "print(newlist)"
   ]
  },
  {
   "cell_type": "markdown",
   "id": "1c2329b8",
   "metadata": {},
   "source": [
    "# The Syntax"
   ]
  },
  {
   "cell_type": "markdown",
   "id": "c162ff25",
   "metadata": {},
   "source": [
    "### newlist=[expressiom for item in iterable if condition==True"
   ]
  },
  {
   "cell_type": "markdown",
   "id": "6c76d1aa",
   "metadata": {},
   "source": [
    "### Then return value is a new list, leaving the old list unchanged."
   ]
  },
  {
   "cell_type": "code",
   "execution_count": 3,
   "id": "f6f88732",
   "metadata": {},
   "outputs": [
    {
     "name": "stdout",
     "output_type": "stream",
     "text": [
      "['banana', 'cherry', 'kiwi', 'mango']\n"
     ]
    }
   ],
   "source": [
    "newlist2=[x for x in fruits if x != \"apple\"]\n",
    "print(newlist2)"
   ]
  },
  {
   "cell_type": "code",
   "execution_count": 4,
   "id": "01160ca4",
   "metadata": {},
   "outputs": [
    {
     "name": "stdout",
     "output_type": "stream",
     "text": [
      "['apple', 'banana', 'cherry', 'kiwi', 'mango']\n"
     ]
    }
   ],
   "source": [
    "newlist3=[x for x in fruits]\n",
    "print(newlist3)"
   ]
  },
  {
   "cell_type": "code",
   "execution_count": 5,
   "id": "6cc8f20a",
   "metadata": {},
   "outputs": [
    {
     "name": "stdout",
     "output_type": "stream",
     "text": [
      "[0, 1, 4, 9, 16, 25, 36, 49, 64, 81]\n"
     ]
    }
   ],
   "source": [
    "newlist4=[x*x for x in range(10)]\n",
    "print(newlist4)"
   ]
  },
  {
   "cell_type": "code",
   "execution_count": 6,
   "id": "caa0aebd",
   "metadata": {},
   "outputs": [
    {
     "name": "stdout",
     "output_type": "stream",
     "text": [
      "['APPLE', 'BANANA', 'CHERRY', 'KIWI', 'MANGO']\n"
     ]
    }
   ],
   "source": [
    "newlist5=[x.upper() for x in fruits]\n",
    "print(newlist5)"
   ]
  },
  {
   "cell_type": "markdown",
   "id": "dd031514",
   "metadata": {},
   "source": [
    "# Using enumerate():"
   ]
  },
  {
   "cell_type": "markdown",
   "id": "562d0a71",
   "metadata": {},
   "source": [
    "### enumerate() is used to loop through the containers printing the index number along with the value present in that particular index."
   ]
  },
  {
   "cell_type": "code",
   "execution_count": 7,
   "id": "83a05d13",
   "metadata": {},
   "outputs": [
    {
     "name": "stdout",
     "output_type": "stream",
     "text": [
      "0 the\n",
      "1 big\n",
      "2 bang\n",
      "3 theory\n"
     ]
    }
   ],
   "source": [
    "for xindex, yvalue in enumerate([\"the\",\"big\",\"bang\",\"theory\"]):\n",
    "    print(xindex,yvalue)"
   ]
  },
  {
   "cell_type": "code",
   "execution_count": 10,
   "id": "b90b55c4",
   "metadata": {},
   "outputs": [
    {
     "name": "stdout",
     "output_type": "stream",
     "text": [
      "<enumerate object at 0x00000277F27AB1F0>\n",
      "<class 'enumerate'>\n",
      "[(0, 'bread'), (1, 'milk'), (2, 'butter')]\n",
      "[(10, 'bread'), (11, 'milk'), (12, 'butter')]\n"
     ]
    }
   ],
   "source": [
    "gro=[\"bread\",\"milk\",\"butter\"]\n",
    "enumerategro=enumerate(gro)\n",
    "print(enumerategro)\n",
    "print(type(enumerategro))\n",
    "\n",
    "# coverting to list \n",
    "print(list(enumerategro))\n",
    "\n",
    "# changing the default counter\n",
    "enumerategro=enumerate(gro,10)\n",
    "print(list(enumerategro))"
   ]
  },
  {
   "cell_type": "markdown",
   "id": "3dde36e1",
   "metadata": {},
   "source": [
    "# Using zip()\n"
   ]
  },
  {
   "cell_type": "markdown",
   "id": "1a14fb30",
   "metadata": {},
   "source": [
    "### zip() is used to combine 2 similar containers(list-list or dict-dict) printing the values sequentially.The loop exists only till the smallest container ends."
   ]
  },
  {
   "cell_type": "code",
   "execution_count": 14,
   "id": "0b4b5eb2",
   "metadata": {},
   "outputs": [
    {
     "name": "stdout",
     "output_type": "stream",
     "text": [
      "what is your name ? I am apple.\n",
      "what is your colour ? I am red.\n",
      "what is your shape ? I am a circle.\n"
     ]
    }
   ],
   "source": [
    "# initializing list\n",
    "q=[\"name\",\"colour\",\"shape\"]\n",
    "a=[\"apple\",\"red\",\"a circle\"]\n",
    "\n",
    "#using zip() to continue two containers\n",
    "# and print values\n",
    "for q,a in zip(q,a):\n",
    "    print(\"what is your {0} ? I am {1}.\".format(q,a))"
   ]
  },
  {
   "cell_type": "markdown",
   "id": "9acaf368",
   "metadata": {},
   "source": [
    "# Using sorted():"
   ]
  },
  {
   "cell_type": "markdown",
   "id": "79b9b110",
   "metadata": {},
   "source": [
    "### sorted() is used to print the container is sorted order. It doesnt sort the container but just prints the container in sorted order for 1 instance. the use of set() can be combined to remove duplicate occurrences."
   ]
  },
  {
   "cell_type": "code",
   "execution_count": 19,
   "id": "ee22649c",
   "metadata": {},
   "outputs": [
    {
     "name": "stdout",
     "output_type": "stream",
     "text": [
      "the list in sorted oreder is ;\n",
      "1 1 2 3 3 5 6 \n",
      "the list in sorted order (without duplicates)is:\n",
      "1 2 3 5 6 "
     ]
    }
   ],
   "source": [
    "# initializing list\n",
    "lis=[1,3,5,6,2,1,3]\n",
    "\n",
    "#using sorted() to print the list in sorted order\n",
    "print(\"the list in sorted oreder is ;\")\n",
    "for i in sorted(lis):\n",
    "    print(i,end=\" \")\n",
    "print(\"\")\n",
    "\n",
    "# using sorted()and set() to print the list in sorted order\n",
    "#use of set() remove duplicates.\n",
    "\n",
    "print(\"the list in sorted order (without duplicates)is:\")\n",
    "\n",
    "for i in sorted(set(lis)):\n",
    "    print(i,end=\" \")"
   ]
  },
  {
   "cell_type": "markdown",
   "id": "b815af52",
   "metadata": {},
   "source": [
    "# Using reversed():"
   ]
  },
  {
   "cell_type": "markdown",
   "id": "732a30fc",
   "metadata": {},
   "source": [
    "### reversed() is used to print the values of the container in the reversed order. It does not reflect any channge to the original list"
   ]
  },
  {
   "cell_type": "code",
   "execution_count": 21,
   "id": "4dde9a75",
   "metadata": {},
   "outputs": [
    {
     "name": "stdout",
     "output_type": "stream",
     "text": [
      "the list in reversed order is:\n",
      "3 1 2 6 5 3 1 "
     ]
    }
   ],
   "source": [
    "# initalizing list\n",
    "lis=[1,3,5,6,2,1,3]\n",
    "\n",
    "# using reversed() to print the list in reversed order\n",
    "print(\"the list in reversed order is:\")\n",
    "for i in reversed(lis):\n",
    "    print(i,end=\" \")"
   ]
  },
  {
   "cell_type": "markdown",
   "id": "aa49c71b",
   "metadata": {},
   "source": [
    "# Iter() and next()"
   ]
  },
  {
   "cell_type": "markdown",
   "id": "799f6f1e",
   "metadata": {},
   "source": [
    "### the python iter function is used to return an iterator for the object. the iter() is used to create an object that will iterate one element at a time."
   ]
  },
  {
   "cell_type": "code",
   "execution_count": 3,
   "id": "1da1d41f",
   "metadata": {},
   "outputs": [
    {
     "name": "stdout",
     "output_type": "stream",
     "text": [
      "a\n",
      "e\n",
      "i\n",
      "o\n",
      "u\n"
     ]
    }
   ],
   "source": [
    "vowels=[\"a\",\"e\",\"i\",\"o\",\"u\"]\n",
    "\n",
    "# iter() with a list of vowels\n",
    "vowels_iter= iter(vowels)\n",
    "\n",
    "print(next(vowels_iter))\n",
    "print(next(vowels_iter))\n",
    "print(next(vowels_iter))\n",
    "print(next(vowels_iter))\n",
    "print(next(vowels_iter))"
   ]
  },
  {
   "cell_type": "code",
   "execution_count": 23,
   "id": "88f39307",
   "metadata": {},
   "outputs": [
    {
     "name": "stdout",
     "output_type": "stream",
     "text": [
      "a\n",
      "e\n",
      "i\n",
      "o\n",
      "u\n"
     ]
    }
   ],
   "source": [
    "vowels_iter= iter(vowels)\n",
    "for i in vowels_iter:\n",
    "    print(i)"
   ]
  },
  {
   "cell_type": "code",
   "execution_count": null,
   "id": "95bcc1e5",
   "metadata": {},
   "outputs": [],
   "source": []
  }
 ],
 "metadata": {
  "kernelspec": {
   "display_name": "Python 3 (ipykernel)",
   "language": "python",
   "name": "python3"
  },
  "language_info": {
   "codemirror_mode": {
    "name": "ipython",
    "version": 3
   },
   "file_extension": ".py",
   "mimetype": "text/x-python",
   "name": "python",
   "nbconvert_exporter": "python",
   "pygments_lexer": "ipython3",
   "version": "3.11.5"
  }
 },
 "nbformat": 4,
 "nbformat_minor": 5
}
