{
 "cells": [
  {
   "cell_type": "markdown",
   "id": "82c499d6",
   "metadata": {},
   "source": [
    "# Python Error Handling"
   ]
  },
  {
   "cell_type": "markdown",
   "id": "4f671d72",
   "metadata": {},
   "source": [
    "## Exceptions Handling\n",
    "\n",
    "#### this are errors which occurs due to exceptions ,eg : 3 cannot divide by 0."
   ]
  },
  {
   "cell_type": "code",
   "execution_count": 3,
   "id": "69e00c8a",
   "metadata": {},
   "outputs": [
    {
     "name": "stdout",
     "output_type": "stream",
     "text": [
      "calculating 3 / 0\n",
      "cannot divide by zero\n",
      "calculation over!....\n",
      "calculating 3 / abc\n",
      "cannot divide non-numbers\n",
      "calculation over!....\n"
     ]
    }
   ],
   "source": [
    "def divide3(numbers, divisor):\n",
    "    print(\"calculating\",numbers,\"/\",divisor)\n",
    "    try:\n",
    "        result = float(numbers)//float(divisor)\n",
    "        print(number,\"/\",divisor,\"=\",rsult)\n",
    "    except ZeroDivisionError:\n",
    "        print(\"cannot divide by zero\")\n",
    "    except ValueError:\n",
    "        print(\"cannot divide non-numbers\")\n",
    "    print(\"calculation over!....\")\n",
    "    \n",
    "divide3(3,0)\n",
    "divide3(3,\"abc\")"
   ]
  },
  {
   "cell_type": "markdown",
   "id": "a448aed3",
   "metadata": {},
   "source": [
    "#### it is possible to specify multiple exception types in one except clause."
   ]
  },
  {
   "cell_type": "code",
   "execution_count": 6,
   "id": "6b1281e2",
   "metadata": {},
   "outputs": [
    {
     "name": "stdout",
     "output_type": "stream",
     "text": [
      "calculating 3 / 0\n",
      "incorrect inputs\n",
      "calculation over!....\n",
      "calculating 3 / abc\n",
      "incorrect inputs\n",
      "calculation over!....\n"
     ]
    }
   ],
   "source": [
    "def divide3(number, divisor):\n",
    "    print(\"calculating\",number,\"/\",divisor)\n",
    "    try:\n",
    "        result = float(number)//float(divisor)\n",
    "        print(number,\"/\",divisor,\"=\",result)\n",
    "    except (ZeroDivisionError,ValueError):\n",
    "        print(\"incorrect inputs\")\n",
    "    print(\"calculation over!....\")\n",
    "    \n",
    "divide3(3,0)\n",
    "divide3(3,\"abc\")"
   ]
  },
  {
   "cell_type": "code",
   "execution_count": null,
   "id": "76fe5cce",
   "metadata": {},
   "outputs": [],
   "source": []
  }
 ],
 "metadata": {
  "kernelspec": {
   "display_name": "Python 3 (ipykernel)",
   "language": "python",
   "name": "python3"
  },
  "language_info": {
   "codemirror_mode": {
    "name": "ipython",
    "version": 3
   },
   "file_extension": ".py",
   "mimetype": "text/x-python",
   "name": "python",
   "nbconvert_exporter": "python",
   "pygments_lexer": "ipython3",
   "version": "3.11.5"
  }
 },
 "nbformat": 4,
 "nbformat_minor": 5
}
