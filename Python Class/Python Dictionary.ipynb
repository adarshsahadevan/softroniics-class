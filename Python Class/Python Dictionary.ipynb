{
 "cells": [
  {
   "cell_type": "markdown",
   "id": "ebe5e45c",
   "metadata": {},
   "source": [
    "# Dictonary"
   ]
  },
  {
   "cell_type": "code",
   "execution_count": 12,
   "id": "500faa23",
   "metadata": {},
   "outputs": [
    {
     "name": "stdout",
     "output_type": "stream",
     "text": [
      "{'brand': 'ford', 'electric': False, 'year': 1964, 'colors': ['red', 'white', 'blue']}\n",
      "4\n",
      "<class 'dict'>\n"
     ]
    }
   ],
   "source": [
    "mydict = {\n",
    "    \"brand\":\"ford\",   # here brand is the key and ford is the value\n",
    "    \"electric\":False,\n",
    "    \"year\": 1964,\n",
    "    \"colors\":[\"red\",\"white\",\"blue\"]\n",
    "}\n",
    "print(mydict)\n",
    "\n",
    "print(len(mydict))\n",
    "\n",
    "print(type(mydict))"
   ]
  },
  {
   "cell_type": "markdown",
   "id": "be25d7c7",
   "metadata": {},
   "source": [
    "# Accessing Items"
   ]
  },
  {
   "cell_type": "markdown",
   "id": "90e09ec6",
   "metadata": {},
   "source": [
    "#### You can access the items of a dictionary by referring to its key name,inside square brackets:"
   ]
  },
  {
   "cell_type": "code",
   "execution_count": 13,
   "id": "7dd21fff",
   "metadata": {},
   "outputs": [
    {
     "name": "stdout",
     "output_type": "stream",
     "text": [
      "mustang\n"
     ]
    }
   ],
   "source": [
    "# Get the value of the\"model\" key:\n",
    "mydict={\n",
    "    \"brand\":\"ford\",\n",
    "    \"model\":\"mustang\",\n",
    "    \"year\":1964\n",
    "}\n",
    "x=mydict[\"model\"]\n",
    "print(x)"
   ]
  },
  {
   "cell_type": "code",
   "execution_count": 14,
   "id": "0c2e2632",
   "metadata": {},
   "outputs": [
    {
     "name": "stdout",
     "output_type": "stream",
     "text": [
      "mustang\n"
     ]
    }
   ],
   "source": [
    "y = mydict.get(\"model\")\n",
    "print(y)"
   ]
  },
  {
   "cell_type": "code",
   "execution_count": 15,
   "id": "e9eb35b9",
   "metadata": {},
   "outputs": [
    {
     "name": "stdout",
     "output_type": "stream",
     "text": [
      "dict_keys(['brand', 'model', 'year'])\n",
      "dict_values(['ford', 'mustang', 1964])\n",
      "dict_items([('brand', 'ford'), ('model', 'mustang'), ('year', 1964)])\n"
     ]
    }
   ],
   "source": [
    "x=mydict.keys()\n",
    "print(x)\n",
    "\n",
    "y=mydict.values()\n",
    "print(y)\n",
    "\n",
    "z=mydict.items()\n",
    "print(z)"
   ]
  },
  {
   "cell_type": "markdown",
   "id": "2a831844",
   "metadata": {},
   "source": [
    "# Change Values"
   ]
  },
  {
   "cell_type": "code",
   "execution_count": 17,
   "id": "880ad1a3",
   "metadata": {},
   "outputs": [
    {
     "name": "stdout",
     "output_type": "stream",
     "text": [
      "{'brand': 'ford', 'model': 'mustang', 'year': 2018}\n"
     ]
    }
   ],
   "source": [
    "x={\n",
    "    \"brand\":\"ford\",\n",
    "    \"model\":\"mustang\",\n",
    "    \"year\":1964\n",
    "}\n",
    "x[\"year\"]=2018\n",
    "print(x)"
   ]
  },
  {
   "cell_type": "markdown",
   "id": "a4e79710",
   "metadata": {},
   "source": [
    "# Update Dictionary"
   ]
  },
  {
   "cell_type": "code",
   "execution_count": 18,
   "id": "b7d91a13",
   "metadata": {},
   "outputs": [
    {
     "name": "stdout",
     "output_type": "stream",
     "text": [
      "{'brand': 'ford', 'model': 'mustang', 'year': 2019}\n"
     ]
    }
   ],
   "source": [
    "x={\n",
    "    \"brand\":\"ford\",\n",
    "    \"model\":\"mustang\",\n",
    "    \"year\":1964\n",
    "}\n",
    "x.update({\"year\":2019})\n",
    "print(x)"
   ]
  },
  {
   "cell_type": "markdown",
   "id": "5ae07f2b",
   "metadata": {},
   "source": [
    "# Adding Items"
   ]
  },
  {
   "cell_type": "code",
   "execution_count": 19,
   "id": "3a07c676",
   "metadata": {},
   "outputs": [
    {
     "name": "stdout",
     "output_type": "stream",
     "text": [
      "{'brand': 'ford', 'model': 'mustang', 'year': 1964, 'color': 'red'}\n"
     ]
    }
   ],
   "source": [
    "x={\n",
    "    \"brand\":\"ford\",\n",
    "    \"model\":\"mustang\",\n",
    "    \"year\":1964\n",
    "}\n",
    "x[\"color\"]=\"red\"\n",
    "print(x)"
   ]
  },
  {
   "cell_type": "markdown",
   "id": "6fd3adaa",
   "metadata": {},
   "source": [
    "# Removing Items"
   ]
  },
  {
   "cell_type": "code",
   "execution_count": 20,
   "id": "80eed421",
   "metadata": {},
   "outputs": [
    {
     "name": "stdout",
     "output_type": "stream",
     "text": [
      "{'brand': 'ford', 'year': 1964}\n"
     ]
    }
   ],
   "source": [
    "x={\n",
    "    \"brand\":\"ford\",\n",
    "    \"model\":\"mustang\",\n",
    "    \"year\":1964\n",
    "}\n",
    "x.pop(\"model\")\n",
    "print(x)"
   ]
  },
  {
   "cell_type": "code",
   "execution_count": 21,
   "id": "9d3581ea",
   "metadata": {},
   "outputs": [
    {
     "name": "stdout",
     "output_type": "stream",
     "text": [
      "{'brand': 'ford', 'model': 'mustang'}\n"
     ]
    }
   ],
   "source": [
    "x={\n",
    "    \"brand\":\"ford\",\n",
    "    \"model\":\"mustang\",\n",
    "    \"year\":1964\n",
    "}\n",
    "x.popitem()\n",
    "print(x)"
   ]
  },
  {
   "cell_type": "code",
   "execution_count": 22,
   "id": "848a0899",
   "metadata": {},
   "outputs": [
    {
     "name": "stdout",
     "output_type": "stream",
     "text": [
      "{}\n"
     ]
    }
   ],
   "source": [
    "x={\n",
    "    \"brand\":\"ford\",\n",
    "    \"model\":\"mustang\",\n",
    "    \"year\":1964\n",
    "}\n",
    "x.clear()\n",
    "print(x)"
   ]
  },
  {
   "cell_type": "code",
   "execution_count": 23,
   "id": "20050a31",
   "metadata": {},
   "outputs": [],
   "source": [
    "del x"
   ]
  },
  {
   "cell_type": "markdown",
   "id": "bd2f8ebf",
   "metadata": {},
   "source": [
    "# 09/02/2024\n",
    "\n",
    "\n",
    "# Loop for dictionary"
   ]
  },
  {
   "cell_type": "code",
   "execution_count": 1,
   "id": "c75c5e93",
   "metadata": {},
   "outputs": [
    {
     "name": "stdout",
     "output_type": "stream",
     "text": [
      "brand\n",
      "model\n",
      "year\n"
     ]
    }
   ],
   "source": [
    "xdict={\n",
    "    \"brand\":\"ford\",\n",
    "    \"model\":\"mustang\",\n",
    "    \"year\":1964\n",
    "}\n",
    "for i in xdict:\n",
    "    print(i)"
   ]
  },
  {
   "cell_type": "code",
   "execution_count": 2,
   "id": "8214ed56",
   "metadata": {},
   "outputs": [
    {
     "name": "stdout",
     "output_type": "stream",
     "text": [
      "ford\n",
      "mustang\n",
      "1964\n"
     ]
    }
   ],
   "source": [
    "for i in xdict:\n",
    "    print(xdict[i])"
   ]
  },
  {
   "cell_type": "code",
   "execution_count": 3,
   "id": "d550df66",
   "metadata": {},
   "outputs": [
    {
     "name": "stdout",
     "output_type": "stream",
     "text": [
      "brand ford\n",
      "model mustang\n",
      "year 1964\n"
     ]
    }
   ],
   "source": [
    "for i in xdict:\n",
    "    print(i,xdict[i])"
   ]
  },
  {
   "cell_type": "code",
   "execution_count": 5,
   "id": "d3dfc154",
   "metadata": {},
   "outputs": [
    {
     "name": "stdout",
     "output_type": "stream",
     "text": [
      "ford\n",
      "mustang\n",
      "1964\n"
     ]
    }
   ],
   "source": [
    "d={\n",
    "    \"brand\":\"ford\",\n",
    "    \"model\":\"mustang\",\n",
    "    \"year\":1964\n",
    "}\n",
    "\n",
    "for x in d.values():\n",
    "    print(x)"
   ]
  },
  {
   "cell_type": "code",
   "execution_count": 7,
   "id": "ad8e026e",
   "metadata": {},
   "outputs": [
    {
     "name": "stdout",
     "output_type": "stream",
     "text": [
      "brand\n",
      "model\n",
      "year\n"
     ]
    }
   ],
   "source": [
    "d={\n",
    "    \"brand\":\"ford\",\n",
    "    \"model\":\"mustang\",\n",
    "    \"year\":1964\n",
    "}\n",
    "\n",
    "for x in d.keys():\n",
    "    print(x)"
   ]
  },
  {
   "cell_type": "markdown",
   "id": "6443b359",
   "metadata": {},
   "source": [
    "# Sorted"
   ]
  },
  {
   "cell_type": "code",
   "execution_count": 8,
   "id": "c7105193",
   "metadata": {},
   "outputs": [
    {
     "name": "stdout",
     "output_type": "stream",
     "text": [
      "banana -> 0.15\n",
      "bread -> 3.5\n",
      "butter -> 5.0\n"
     ]
    }
   ],
   "source": [
    "prices={\"bread\":3.5,\"butter\":5.0,\"banana\":0.15}\n",
    "\n",
    "for k in sorted(prices.keys()):\n",
    "    print(k,\"->\",prices[k])"
   ]
  },
  {
   "cell_type": "markdown",
   "id": "a1a98d57",
   "metadata": {},
   "source": [
    "# copy a dictionary"
   ]
  },
  {
   "cell_type": "code",
   "execution_count": 9,
   "id": "cadfaf55",
   "metadata": {},
   "outputs": [
    {
     "name": "stdout",
     "output_type": "stream",
     "text": [
      "{'brand': 'ford', 'model': 'mustang', 'year': 1964}\n"
     ]
    }
   ],
   "source": [
    "dct={\n",
    "    \"brand\":\"ford\",\n",
    "    \"model\":\"mustang\",\n",
    "    \"year\":1964\n",
    "}\n",
    "\n",
    "mydict=dct.copy()\n",
    "print(mydict)"
   ]
  },
  {
   "cell_type": "code",
   "execution_count": 10,
   "id": "68889bc7",
   "metadata": {},
   "outputs": [
    {
     "name": "stdout",
     "output_type": "stream",
     "text": [
      "{'brand': 'ford', 'model': 'mustang', 'year': 1964}\n"
     ]
    }
   ],
   "source": [
    "dct={\n",
    "    \"brand\":\"ford\",\n",
    "    \"model\":\"mustang\",\n",
    "    \"year\":1964\n",
    "}\n",
    "\n",
    "mydict=dict(dct)\n",
    "print(mydict)"
   ]
  },
  {
   "cell_type": "markdown",
   "id": "9cb37122",
   "metadata": {},
   "source": [
    "#  Nested Dictionaries"
   ]
  },
  {
   "cell_type": "code",
   "execution_count": 12,
   "id": "111612cb",
   "metadata": {},
   "outputs": [
    {
     "name": "stdout",
     "output_type": "stream",
     "text": [
      "{'child1': {'name': 'emil', 'year': 2004}, 'child2': {'name': 'tobias', 'year': 2007}, 'child3': {'name': 'linus', 'year': 2011}}\n"
     ]
    }
   ],
   "source": [
    "myfamily={\n",
    "    \"child1\":{\"name\":\"emil\",\n",
    "             \"year\":2004},\n",
    "    \"child2\":{\"name\":\"tobias\",\n",
    "             \"year\":2007},\n",
    "    \"child3\":{\"name\":\"linus\",\n",
    "             \"year\":2011}\n",
    "}\n",
    "\n",
    "print(myfamily)"
   ]
  },
  {
   "cell_type": "code",
   "execution_count": 5,
   "id": "9635e99a",
   "metadata": {},
   "outputs": [
    {
     "name": "stdout",
     "output_type": "stream",
     "text": [
      "{'gfg': 26, 'is': 19, 'best': 70}\n"
     ]
    }
   ],
   "source": [
    "# combine two dictonaries having key of the first dictionary and value of the second dictionary\n",
    "\n",
    "# initalizing dictionaries\n",
    "test_dict1={\"gfg\":20,\"is\":36,\"best\":100}\n",
    "test_dict2={\"gfg2\":26,\"is2\":19,\"best2\":70}\n",
    "\n",
    "test_dict3=dict(zip(test_dict1,test_dict2.values()))\n",
    "print(test_dict3)\n",
    "    "
   ]
  },
  {
   "cell_type": "code",
   "execution_count": 3,
   "id": "110692c1",
   "metadata": {},
   "outputs": [
    {
     "name": "stdout",
     "output_type": "stream",
     "text": [
      "{1: 1, 2: 4, 3: 9, 4: 16, 5: 25, 6: 36, 7: 49, 8: 64, 9: 81, 10: 100}\n"
     ]
    }
   ],
   "source": [
    "# python program to create a dictionary of number from 1 to 10 and their squares.\n",
    "\n",
    "sq={x:x**2 for x in range (1,11)}\n",
    "print(sq)"
   ]
  },
  {
   "cell_type": "code",
   "execution_count": null,
   "id": "41df0f83",
   "metadata": {},
   "outputs": [],
   "source": []
  },
  {
   "cell_type": "code",
   "execution_count": null,
   "id": "e8e2b4bf",
   "metadata": {},
   "outputs": [],
   "source": []
  }
 ],
 "metadata": {
  "kernelspec": {
   "display_name": "Python 3 (ipykernel)",
   "language": "python",
   "name": "python3"
  },
  "language_info": {
   "codemirror_mode": {
    "name": "ipython",
    "version": 3
   },
   "file_extension": ".py",
   "mimetype": "text/x-python",
   "name": "python",
   "nbconvert_exporter": "python",
   "pygments_lexer": "ipython3",
   "version": "3.11.5"
  }
 },
 "nbformat": 4,
 "nbformat_minor": 5
}
