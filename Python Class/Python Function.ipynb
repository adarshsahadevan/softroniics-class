{
 "cells": [
  {
   "cell_type": "markdown",
   "id": "b3ec6ecf",
   "metadata": {},
   "source": [
    "# Python function"
   ]
  },
  {
   "cell_type": "markdown",
   "id": "8828c884",
   "metadata": {},
   "source": [
    "# calling a function"
   ]
  },
  {
   "cell_type": "code",
   "execution_count": 1,
   "id": "ddb96524",
   "metadata": {},
   "outputs": [],
   "source": [
    "def greet():\n",
    "    print(\"hello world!\")"
   ]
  },
  {
   "cell_type": "code",
   "execution_count": 2,
   "id": "42109075",
   "metadata": {},
   "outputs": [
    {
     "name": "stdout",
     "output_type": "stream",
     "text": [
      "hello world!\n",
      "hello world!\n"
     ]
    }
   ],
   "source": [
    "greet()\n",
    "greet()"
   ]
  },
  {
   "cell_type": "code",
   "execution_count": 3,
   "id": "cd4c91d1",
   "metadata": {},
   "outputs": [
    {
     "name": "stdout",
     "output_type": "stream",
     "text": [
      "hello ravi\n",
      "hello 9\n"
     ]
    }
   ],
   "source": [
    "def name_fn(name):\n",
    "    print(\"hello\",name)\n",
    "name_fn (\"ravi\")\n",
    "name_fn (9)"
   ]
  },
  {
   "cell_type": "code",
   "execution_count": null,
   "id": "a0879dd8",
   "metadata": {},
   "outputs": [],
   "source": [
    "x=input(\"enter a name:\")\n",
    "name_fn(x)\n",
    "name_fn(input(\"enter a name:\"))"
   ]
  },
  {
   "cell_type": "markdown",
   "id": "9b48c0cb",
   "metadata": {},
   "source": [
    "# Function Arguments"
   ]
  },
  {
   "cell_type": "code",
   "execution_count": 5,
   "id": "db5a20f6",
   "metadata": {},
   "outputs": [
    {
     "name": "stdout",
     "output_type": "stream",
     "text": [
      "sum: 7\n"
     ]
    }
   ],
   "source": [
    "# fuction with no argument\n",
    "def add_numbers():\n",
    "    num1=5\n",
    "    num2=2\n",
    "    sum_=num1+num2\n",
    "    print(\"sum:\",sum_)\n",
    "add_numbers()   "
   ]
  },
  {
   "cell_type": "code",
   "execution_count": 6,
   "id": "4076541e",
   "metadata": {},
   "outputs": [
    {
     "name": "stdout",
     "output_type": "stream",
     "text": [
      "sum: 29\n"
     ]
    }
   ],
   "source": [
    "def add_numbers(num1,num2):\n",
    "    sum_=num1+num2\n",
    "    print(\"sum:\",sum_)\n",
    "add_numbers(5,24)   "
   ]
  },
  {
   "cell_type": "code",
   "execution_count": 2,
   "id": "5e4ceb76",
   "metadata": {},
   "outputs": [
    {
     "name": "stdout",
     "output_type": "stream",
     "text": [
      "enter a number:64\n",
      "enter a number:5\n",
      "sum: 69\n"
     ]
    }
   ],
   "source": [
    "# function call with two values\n",
    "x=int(input(\"enter a number:\"))\n",
    "y=int(input(\"enter a number:\"))\n",
    "\n",
    "def add_numbers(x,y):\n",
    "    sum_=x+y\n",
    "    print(\"sum:\",sum_)\n",
    "add_numbers(x,y)   "
   ]
  },
  {
   "cell_type": "markdown",
   "id": "ca81388d",
   "metadata": {},
   "source": [
    "# 12/02/2024"
   ]
  },
  {
   "cell_type": "markdown",
   "id": "651ac2f1",
   "metadata": {},
   "source": [
    "# function argument with default values"
   ]
  },
  {
   "cell_type": "code",
   "execution_count": 5,
   "id": "de6a36c7",
   "metadata": {},
   "outputs": [
    {
     "name": "stdout",
     "output_type": "stream",
     "text": [
      "sum: 15\n",
      "sum: 11\n",
      "sum: 9\n"
     ]
    }
   ],
   "source": [
    "def add_numbers(a=7,b=8):\n",
    "    sum=a+b\n",
    "    print(\"sum:\",sum)\n",
    "# function call without arguments\n",
    "add_numbers()\n",
    "\n",
    "# function call with two arguments\n",
    "add_numbers(3) # here it changes value of a.\n",
    "\n",
    "# function call with one arguments\n",
    "add_numbers(b=2)\n"
   ]
  },
  {
   "cell_type": "markdown",
   "id": "dfeb95a9",
   "metadata": {},
   "source": [
    "# Function with arbitrary arguments"
   ]
  },
  {
   "cell_type": "markdown",
   "id": "7d16fe1f",
   "metadata": {},
   "source": [
    "#### sometimes, we do not know in advance the number of arguments that will  be passed into a function. to handle this kind of arguments in python. \n",
    "\n",
    "#### arbitrary arguments allow us to pass a varying numbers of values during a funtion call."
   ]
  },
  {
   "cell_type": "code",
   "execution_count": 6,
   "id": "78de3f99",
   "metadata": {},
   "outputs": [
    {
     "name": "stdout",
     "output_type": "stream",
     "text": [
      "sum= 6\n",
      "sum= 32\n"
     ]
    }
   ],
   "source": [
    "# program to find sum of multiple numbers\n",
    "\n",
    "def find_sum(*numbers):  # here * is to multiple the number of elements\n",
    "    result=0\n",
    "    for num in numbers :\n",
    "        result=result+num\n",
    "    print(\"sum=\",result)\n",
    "    \n",
    "# function call with 3 arguments\n",
    "find_sum(1,2,3)\n",
    "\n",
    "# function call with 2 arguments\n",
    "find_sum(4,9,3,8,1,7)"
   ]
  },
  {
   "cell_type": "markdown",
   "id": "27e9af5e",
   "metadata": {},
   "source": [
    "# The return statement"
   ]
  },
  {
   "cell_type": "code",
   "execution_count": 7,
   "id": "986c5b13",
   "metadata": {},
   "outputs": [
    {
     "name": "stdout",
     "output_type": "stream",
     "text": [
      "square: 225\n"
     ]
    }
   ],
   "source": [
    "# function definition\n",
    "def find_square(num):\n",
    "    result = num*num\n",
    "    return result\n",
    "#function call\n",
    "square=find_square(15)\n",
    "print(\"square:\",square)"
   ]
  },
  {
   "cell_type": "code",
   "execution_count": 6,
   "id": "1894435e",
   "metadata": {},
   "outputs": [
    {
     "name": "stdout",
     "output_type": "stream",
     "text": [
      "result: 30 11 -1\n",
      "(30, 11, -1)\n"
     ]
    }
   ],
   "source": [
    "# function definition \n",
    "def calculation(num1,num2):\n",
    "    sqr=num1*num2\n",
    "    add=num1+num2\n",
    "    sub=num1-num2\n",
    "    return sqr,add,sub\n",
    "\n",
    "# function call\n",
    "x,y,z=calculation(5,6)   # we call by assigning 3\n",
    "print(\"result:\",x,y,z)  \n",
    "\n",
    "p=calculation(5,6)  # or we call by assigning all 3 in one but it will print in tuple\n",
    "print(p)"
   ]
  },
  {
   "cell_type": "code",
   "execution_count": 4,
   "id": "621a0812",
   "metadata": {},
   "outputs": [
    {
     "name": "stdout",
     "output_type": "stream",
     "text": [
      "the factorial of  3 is 6\n"
     ]
    }
   ],
   "source": [
    "def factorial(x):\n",
    "    if x==1:\n",
    "        return 1\n",
    "    else:\n",
    "        return (x*factorial(x-1))\n",
    "num=3\n",
    "print(\"the factorial of \", num ,\"is\",factorial(num))"
   ]
  },
  {
   "cell_type": "code",
   "execution_count": 25,
   "id": "dd3d04ca",
   "metadata": {},
   "outputs": [
    {
     "ename": "SyntaxError",
     "evalue": "invalid syntax (1099160881.py, line 7)",
     "output_type": "error",
     "traceback": [
      "\u001b[1;36m  Cell \u001b[1;32mIn[25], line 7\u001b[1;36m\u001b[0m\n\u001b[1;33m    3*                # return from 1st call\u001b[0m\n\u001b[1;37m                      ^\u001b[0m\n\u001b[1;31mSyntaxError\u001b[0m\u001b[1;31m:\u001b[0m invalid syntax\n"
     ]
    }
   ],
   "source": [
    "# steps of above \n",
    "factorial(3)   #1st call with  3\n",
    "3*factorial(2)  #2nd call with 2\n",
    "3*2*factorial(1)  #3rd call with 1\n",
    "3*2*1             #return from 3rd call as number=1\n",
    "3*2               # return from 2nd call\n",
    "3*                # return from 1st call"
   ]
  },
  {
   "cell_type": "markdown",
   "id": "ba7bc791",
   "metadata": {},
   "source": [
    "# Define a function that checks if a number is even or odd"
   ]
  },
  {
   "cell_type": "code",
   "execution_count": 24,
   "id": "8c55030b",
   "metadata": {},
   "outputs": [
    {
     "name": "stdout",
     "output_type": "stream",
     "text": [
      "given number 3 is odd\n"
     ]
    }
   ],
   "source": [
    "def function (x):\n",
    "    if x%2==0:\n",
    "        result=\"even\"\n",
    "        return result\n",
    "    else : \n",
    "        result1=\"odd\"\n",
    "        return result1\n",
    "num=3\n",
    "print(\"given number\", num, \"is\",function(num))"
   ]
  },
  {
   "cell_type": "markdown",
   "id": "6e243012",
   "metadata": {},
   "source": [
    "# Python Lambda/Anonymous Function\n",
    "\n",
    "\n",
    "#### Python , a lambda function is a special type of function without the function name."
   ]
  },
  {
   "cell_type": "code",
   "execution_count": 26,
   "id": "31a060bb",
   "metadata": {},
   "outputs": [],
   "source": [
    "def greet ():\n",
    "    print(\"hello\")"
   ]
  },
  {
   "cell_type": "code",
   "execution_count": 27,
   "id": "a62cc9bd",
   "metadata": {},
   "outputs": [
    {
     "name": "stdout",
     "output_type": "stream",
     "text": [
      "hello\n"
     ]
    }
   ],
   "source": [
    "greet = lambda : print(\"hello\")\n",
    "\n",
    "greet()"
   ]
  },
  {
   "cell_type": "code",
   "execution_count": 28,
   "id": "1b0bf81a",
   "metadata": {},
   "outputs": [
    {
     "name": "stdout",
     "output_type": "stream",
     "text": [
      "hello ravi\n"
     ]
    }
   ],
   "source": [
    "def name_fn (name):\n",
    "    print(\"hello\",name)\n",
    "name_fn(\"ravi\")    "
   ]
  },
  {
   "cell_type": "code",
   "execution_count": 5,
   "id": "9c4e1213",
   "metadata": {},
   "outputs": [
    {
     "name": "stdout",
     "output_type": "stream",
     "text": [
      "hello ravi\n"
     ]
    }
   ],
   "source": [
    "greet= lambda name : print(\"hello\",name)\n",
    "\n",
    "greet(\"ravi\")"
   ]
  },
  {
   "cell_type": "code",
   "execution_count": 8,
   "id": "c6826294",
   "metadata": {},
   "outputs": [
    {
     "name": "stdout",
     "output_type": "stream",
     "text": [
      "sum 11\n"
     ]
    }
   ],
   "source": [
    "gr = lambda a,b : print(\"sum\",a+b)\n",
    "\n",
    "gr(5,6)"
   ]
  },
  {
   "cell_type": "markdown",
   "id": "338b18e6",
   "metadata": {},
   "source": [
    "# 16/02/2024"
   ]
  },
  {
   "cell_type": "markdown",
   "id": "4c143146",
   "metadata": {},
   "source": [
    "# Python Local Variables\n",
    "\n",
    "#### when we declare varibales inside a function, these variables will have a local scope(with the function).We cannot access them outside the function.\n",
    "\n",
    "#### These types of variable are called local variables."
   ]
  },
  {
   "cell_type": "code",
   "execution_count": 1,
   "id": "e6f9a8dd",
   "metadata": {},
   "outputs": [
    {
     "ename": "NameError",
     "evalue": "name 'message' is not defined",
     "output_type": "error",
     "traceback": [
      "\u001b[1;31m---------------------------------------------------------------------------\u001b[0m",
      "\u001b[1;31mNameError\u001b[0m                                 Traceback (most recent call last)",
      "Cell \u001b[1;32mIn[1], line 9\u001b[0m\n\u001b[0;32m      5\u001b[0m     \u001b[38;5;28mprint\u001b[39m(message)\n\u001b[0;32m      6\u001b[0m \u001b[38;5;66;03m# try to access message variable \u001b[39;00m\n\u001b[0;32m      7\u001b[0m \u001b[38;5;66;03m# outside greet() function\u001b[39;00m\n\u001b[0;32m      8\u001b[0m \u001b[38;5;66;03m# greet()\u001b[39;00m\n\u001b[1;32m----> 9\u001b[0m \u001b[38;5;28mprint\u001b[39m(message)\n",
      "\u001b[1;31mNameError\u001b[0m: name 'message' is not defined"
     ]
    }
   ],
   "source": [
    "# message =\"Global hi\" # Global varible\n",
    "def greet():\n",
    "    # local variable \n",
    "    message =\"Local Hello\"\n",
    "    print(message)\n",
    "# try to access message variable \n",
    "# outside greet() function\n",
    "# greet()\n",
    "print(message)"
   ]
  },
  {
   "cell_type": "markdown",
   "id": "fc2c8604",
   "metadata": {},
   "source": [
    "# Modules"
   ]
  },
  {
   "cell_type": "markdown",
   "id": "7c081772",
   "metadata": {},
   "source": [
    "## Import Python Standard Library Modules"
   ]
  },
  {
   "cell_type": "code",
   "execution_count": 2,
   "id": "a2ace468",
   "metadata": {},
   "outputs": [
    {
     "name": "stdout",
     "output_type": "stream",
     "text": [
      "The value of pi is 3.141592653589793\n"
     ]
    }
   ],
   "source": [
    "# import standard math module\n",
    "import math\n",
    "\n",
    "# use math.pi to get values of pi\n",
    "print(\"The value of pi is\",math.pi)"
   ]
  },
  {
   "cell_type": "markdown",
   "id": "d946361b",
   "metadata": {},
   "source": [
    "# Python import with renaming "
   ]
  },
  {
   "cell_type": "code",
   "execution_count": 3,
   "id": "39fffd3f",
   "metadata": {},
   "outputs": [
    {
     "name": "stdout",
     "output_type": "stream",
     "text": [
      "3.141592653589793\n"
     ]
    }
   ],
   "source": [
    "# import module by renaming it\n",
    "import math as m\n",
    "\n",
    "print(m.pi)"
   ]
  },
  {
   "cell_type": "markdown",
   "id": "2760392d",
   "metadata": {},
   "source": [
    "# Python from...import statement"
   ]
  },
  {
   "cell_type": "code",
   "execution_count": 5,
   "id": "3342a712",
   "metadata": {},
   "outputs": [
    {
     "name": "stdout",
     "output_type": "stream",
     "text": [
      "3.141592653589793\n",
      "2.9444389791664403\n"
     ]
    }
   ],
   "source": [
    "# import  only pi from math module\n",
    "from math import pi,log\n",
    "\n",
    "print(pi)\n",
    "\n",
    "print(log(19))"
   ]
  },
  {
   "cell_type": "markdown",
   "id": "37c5136d",
   "metadata": {},
   "source": [
    "# import all names"
   ]
  },
  {
   "cell_type": "code",
   "execution_count": 6,
   "id": "c6287eba",
   "metadata": {},
   "outputs": [
    {
     "name": "stdout",
     "output_type": "stream",
     "text": [
      "the values of pi is 3.141592653589793\n",
      "radius : 31.41592653589793\n",
      "1.6094379124341003\n"
     ]
    }
   ],
   "source": [
    "# import all names from the standard module math\n",
    "from math import *\n",
    "\n",
    "print(\"the values of pi is\",pi)\n",
    "r=5\n",
    "print(\"radius :\",2*pi*r)\n",
    "print(log(r))"
   ]
  },
  {
   "cell_type": "code",
   "execution_count": 10,
   "id": "a486f624",
   "metadata": {},
   "outputs": [
    {
     "name": "stdout",
     "output_type": "stream",
     "text": [
      "9\n"
     ]
    }
   ],
   "source": [
    "import textmodule\n",
    "x= textmodule.add(4,5)\n",
    "print(x)"
   ]
  },
  {
   "cell_type": "code",
   "execution_count": null,
   "id": "6c342364",
   "metadata": {},
   "outputs": [],
   "source": []
  }
 ],
 "metadata": {
  "kernelspec": {
   "display_name": "Python 3 (ipykernel)",
   "language": "python",
   "name": "python3"
  },
  "language_info": {
   "codemirror_mode": {
    "name": "ipython",
    "version": 3
   },
   "file_extension": ".py",
   "mimetype": "text/x-python",
   "name": "python",
   "nbconvert_exporter": "python",
   "pygments_lexer": "ipython3",
   "version": "3.11.5"
  }
 },
 "nbformat": 4,
 "nbformat_minor": 5
}
