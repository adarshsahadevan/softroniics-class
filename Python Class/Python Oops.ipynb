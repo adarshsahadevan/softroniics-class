{
 "cells": [
  {
   "cell_type": "markdown",
   "id": "3d24d16c",
   "metadata": {},
   "source": [
    "# Python OOPS"
   ]
  },
  {
   "cell_type": "markdown",
   "id": "5b443bf3",
   "metadata": {},
   "source": [
    "# Object-Oriented Programming"
   ]
  },
  {
   "cell_type": "code",
   "execution_count": 3,
   "id": "555958ec",
   "metadata": {},
   "outputs": [
    {
     "name": "stdout",
     "output_type": "stream",
     "text": [
      "The red car is medium in size and has a speed of 60 mph.\n",
      "The blue car is small in size and has a speed of 40 mph.\n",
      "The green car is large in size and has a speed of 80 mph.\n",
      "The red car is driving at 60 mph.\n",
      "The blue car has stopped.\n",
      "The green car is honking.\n"
     ]
    }
   ],
   "source": [
    "# Define a car class.\n",
    "\n",
    "class car:\n",
    "    def __init__(self,color,size,speed):\n",
    "        self.color=color\n",
    "        self.size=size\n",
    "        self.speed=speed    # this are attributes.\n",
    "    \n",
    "    def drive(self):\n",
    "        print(f\"The {self.color} car is driving at {self.speed} mph.\")\n",
    "    \n",
    "    def stop(self):\n",
    "        print(f\"The {self.color} car has stopped.\")\n",
    "    \n",
    "    def honk(self):\n",
    "        print(f\"The {self.color} car is honking.\")  # this are method.Functions are called methods in OOP.\n",
    "        \n",
    "# Create car objects\n",
    "red_car = car(\"red\",\"medium\",60)\n",
    "blue_car = car(\"blue\",\"small\",40)\n",
    "green_car = car(\"green\",\"large\",80)\n",
    "\n",
    "# Access attributes of car objects\n",
    "print(f\"The {red_car.color} car is {red_car.size} in size and has a speed of {red_car.speed} mph.\")\n",
    "print(f\"The {blue_car.color} car is {blue_car.size} in size and has a speed of {blue_car.speed} mph.\")\n",
    "print(f\"The {green_car.color} car is {green_car.size} in size and has a speed of {green_car.speed} mph.\")\n",
    "\n",
    "# call methods of car objects\n",
    "red_car.drive()\n",
    "blue_car.stop()\n",
    "green_car.honk()"
   ]
  },
  {
   "cell_type": "markdown",
   "id": "6fb6b69d",
   "metadata": {},
   "source": [
    "# Class Definition\n",
    "\n",
    "#### A class is defined using the class keyword, followed by the name class name.The class name should be in CamelCase convention, starting with an uppercase."
   ]
  },
  {
   "cell_type": "code",
   "execution_count": null,
   "id": "5da120e4",
   "metadata": {},
   "outputs": [],
   "source": [
    "class MyClass:\n",
    "    #class body"
   ]
  },
  {
   "cell_type": "markdown",
   "id": "d3739870",
   "metadata": {},
   "source": [
    "# Objects(instance) and Instantiation:\n",
    "\n",
    "#### The object is an entity that has a state and behavior associated with it.An object consists of:\n",
    "####         State: It is represented by the attributes of an object.It also reflects the properties of an object.\n",
    "####         Behavior: It is represented by the method of an object.It also reflects the respose of an object to other objects.\n",
    "####         Identity: It gives a unique name to an object and enables one object to interact with other objects.\n",
    "\n",
    "#### Once a class is define , you can create objects or instances of that class by calling the class name followed by parenthese.This process is called instantiation.    "
   ]
  },
  {
   "cell_type": "code",
   "execution_count": null,
   "id": "21dc7fdc",
   "metadata": {},
   "outputs": [],
   "source": [
    "obj=MyClass() # creates an instance of MyClass"
   ]
  },
  {
   "cell_type": "markdown",
   "id": "bc7c586a",
   "metadata": {},
   "source": [
    "# Class Attributes:\n",
    "\n",
    "#### Class attributes are variables that are shared by all instances of class.They are define within the class body but outside any method.\n",
    "\n",
    "#### In class, attributes can be define into two parts:\n",
    "\n",
    "#### Instance variables : The instance variables are attributes attached to an instance of a class. We define instance variables in the constructor (the __init__() method of a class).\n",
    "\n",
    "#### Class Variables: A class variable is a variable that is declared inside of class , but outside of any instance method or __init()_ method.\n",
    "\n",
    "#### Class attributes are accessed using the class name followed by dot notation."
   ]
  },
  {
   "cell_type": "code",
   "execution_count": 8,
   "id": "b233d325",
   "metadata": {},
   "outputs": [
    {
     "name": "stdout",
     "output_type": "stream",
     "text": [
      "20\n"
     ]
    }
   ],
   "source": [
    "class MyClass:\n",
    "    y=20 # class attribute\n",
    "\n",
    "obj=MyClass()\n",
    "print(obj.y)  # prints 20"
   ]
  },
  {
   "cell_type": "markdown",
   "id": "d6481e46",
   "metadata": {},
   "source": [
    "# Instance Attributes:\n",
    "\n",
    "#### Instance attributes are variables that are unique to each instance of a class. They are define within a class method using the self keyword.Instance attributes are accessed using the self keyword followed by dot notation."
   ]
  },
  {
   "cell_type": "code",
   "execution_count": 11,
   "id": "877deae5",
   "metadata": {},
   "outputs": [
    {
     "name": "stdout",
     "output_type": "stream",
     "text": [
      "20\n"
     ]
    }
   ],
   "source": [
    "class MyClass:\n",
    "    def __init__(self):\n",
    "        self.y=20 # instance attribute\n",
    "    \n",
    "obj=MyClass()\n",
    "print(obj.y)  # prints 20"
   ]
  },
  {
   "cell_type": "code",
   "execution_count": 12,
   "id": "a489f26a",
   "metadata": {},
   "outputs": [
    {
     "name": "stdout",
     "output_type": "stream",
     "text": [
      "5864\n",
      "Hello 10 20\n"
     ]
    }
   ],
   "source": [
    "# Class Methods:\n",
    "class MyClass:\n",
    "    x=10\n",
    "    y=20\n",
    "    \n",
    "    def print_x(self):\n",
    "        x=5864\n",
    "        print(x)\n",
    "        print(\"Hello\",self.x,self.y)\n",
    "        \n",
    "    def add(self):\n",
    "        z=self.x + self.y\n",
    "        print(self.x,'+',self.y,'=',z)\n",
    "        \n",
    "obj=MyClass()\n",
    "\n",
    "obj.print_x()"
   ]
  },
  {
   "cell_type": "code",
   "execution_count": 13,
   "id": "eb43deab",
   "metadata": {},
   "outputs": [
    {
     "name": "stdout",
     "output_type": "stream",
     "text": [
      "10 + 20 = 30\n"
     ]
    }
   ],
   "source": [
    "obj.add()"
   ]
  },
  {
   "cell_type": "code",
   "execution_count": 14,
   "id": "996d63fd",
   "metadata": {},
   "outputs": [
    {
     "name": "stdout",
     "output_type": "stream",
     "text": [
      "5864\n",
      "Hello Alexa 20\n"
     ]
    }
   ],
   "source": [
    "obj.x='Alexa'\n",
    "obj.print_x()"
   ]
  },
  {
   "cell_type": "code",
   "execution_count": 15,
   "id": "3693a526",
   "metadata": {},
   "outputs": [
    {
     "name": "stdout",
     "output_type": "stream",
     "text": [
      "5 + 8 = 13\n",
      "5864\n",
      "Hello 5 8\n"
     ]
    }
   ],
   "source": [
    "obj.x=5\n",
    "obj.y=8\n",
    "obj.add()\n",
    "obj.print_x()"
   ]
  },
  {
   "cell_type": "code",
   "execution_count": 17,
   "id": "d9cbdd17",
   "metadata": {},
   "outputs": [
    {
     "name": "stdout",
     "output_type": "stream",
     "text": [
      "Area of Room= 1309.0\n"
     ]
    }
   ],
   "source": [
    "# create a class \n",
    "class Room:\n",
    "    length=0.0\n",
    "    breadth=0.0\n",
    "    \n",
    "    # method to calculate area\n",
    "    def calculate_area(self):\n",
    "        print(\"Area of Room=\",self.length*self.breadth)\n",
    "        \n",
    "# create object of room class\n",
    "study_room=Room()\n",
    "\n",
    "#assign values to all the attributes\n",
    "study_room.length=42.5\n",
    "study_room.breadth=30.8\n",
    "\n",
    "# access method inside class\n",
    "study_room.calculate_area()\n",
    "        "
   ]
  },
  {
   "cell_type": "markdown",
   "id": "fa83d899",
   "metadata": {},
   "source": [
    "## Problem \n",
    "\n",
    "#### Create a class called BankAccount with attributes balance and account_number.Add methods to deposit and withdraw money from the account,and a method to print the current balance."
   ]
  },
  {
   "cell_type": "code",
   "execution_count": 25,
   "id": "197a33dc",
   "metadata": {},
   "outputs": [
    {
     "name": "stdout",
     "output_type": "stream",
     "text": [
      "Deposited amount is 5000.Current balance is 25000.\n",
      "Debite amount is 500.Current balance is 24500.\n",
      "Account Number is 65897113551.Current balance is 24500\n"
     ]
    }
   ],
   "source": [
    "class BankAccount:\n",
    "    def __init__(self,account_number,initial_balance=0):  # here self is used to define within the class.You can you any varible.\n",
    "        self.account_number=account_number                 \n",
    "        self.balance=initial_balance    # this are the attributes needed.\n",
    "# below are Methods .      \n",
    "    def deposit(self,amount):\n",
    "        self.balance+=amount\n",
    "        print(f\"Deposited amount is {amount}.Current balance is {self.balance}.\")\n",
    "        \n",
    "    def withdraw(self,amount):\n",
    "        if self.balance >= amount:\n",
    "            self.balance-=amount\n",
    "            print(f\"Debite amount is {amount}.Current balance is {self.balance}.\")\n",
    "        else:\n",
    "            print(\"Insufficient fund.\")\n",
    "      \n",
    "    def display_balance(self):\n",
    "        print(f\"Account Number is {self.account_number}.Current balance is {self.balance}\")\n",
    "\n",
    "My_Account=BankAccount(account_number=\"65897113551\",initial_balance=20000) \n",
    "\n",
    "My_Account.deposit(5000)\n",
    "My_Account.withdraw(500)\n",
    "My_Account.display_balance()"
   ]
  },
  {
   "cell_type": "code",
   "execution_count": null,
   "id": "9b03fea7",
   "metadata": {},
   "outputs": [],
   "source": []
  },
  {
   "cell_type": "markdown",
   "id": "5b4aa413",
   "metadata": {},
   "source": [
    "# 27/02/2023"
   ]
  },
  {
   "cell_type": "markdown",
   "id": "53668959",
   "metadata": {},
   "source": [
    "# Python Constructors\n",
    "\n",
    "\n",
    "#### A constructor is a special type of method (function) which is used to initialize the instance members of the class. \n",
    "#### \"Init()\" is always executed when the class is being initiated."
   ]
  },
  {
   "cell_type": "code",
   "execution_count": 6,
   "id": "7190a9b9",
   "metadata": {},
   "outputs": [
    {
     "name": "stdout",
     "output_type": "stream",
     "text": [
      "\n"
     ]
    }
   ],
   "source": [
    "class Bike:\n",
    "    # constructor function\n",
    "    def __init__(self,name=\"\"):\n",
    "        self.name=name\n",
    "        print(self.name)\n",
    "bike1=Bike()"
   ]
  },
  {
   "cell_type": "code",
   "execution_count": 7,
   "id": "62ad0595",
   "metadata": {},
   "outputs": [
    {
     "name": "stdout",
     "output_type": "stream",
     "text": [
      "Mountain Bike\n"
     ]
    }
   ],
   "source": [
    "bike1=Bike(\"Mountain Bike\")"
   ]
  },
  {
   "cell_type": "code",
   "execution_count": null,
   "id": "9803cf0e",
   "metadata": {},
   "outputs": [],
   "source": []
  },
  {
   "cell_type": "markdown",
   "id": "315f9d0e",
   "metadata": {},
   "source": [
    "# The str() Function\n",
    "\n",
    "#### controls what should br returned when the class object is represented as a string."
   ]
  },
  {
   "cell_type": "code",
   "execution_count": 16,
   "id": "6b120d0a",
   "metadata": {},
   "outputs": [
    {
     "name": "stdout",
     "output_type": "stream",
     "text": [
      "<__main__.Person object at 0x0000011EDF1A0990>\n",
      "John\n",
      "36\n"
     ]
    }
   ],
   "source": [
    "# the string representation of an object WITHOUT the __str__() function:\n",
    "class Person:\n",
    "    def __init__(self,name,age):\n",
    "        self.name=name\n",
    "        self.age=age\n",
    "        \n",
    "p1 = Person(\"John\",36)\n",
    "print(p1)\n",
    "print(p1.name)\n",
    "print(p1.age)"
   ]
  },
  {
   "cell_type": "code",
   "execution_count": 17,
   "id": "28fe5cab",
   "metadata": {},
   "outputs": [
    {
     "name": "stdout",
     "output_type": "stream",
     "text": [
      "John-25.5\n"
     ]
    }
   ],
   "source": [
    "# the string representation of an object WITH the __str__() function :\n",
    "class Person:\n",
    "    def __init__(self,name,age):\n",
    "        self.name=name\n",
    "        self.age=age\n",
    "        \n",
    "    def __str__(self):\n",
    "        return f\"{self.name}-{self.age}\"\n",
    "p1=Person(\"John\",25.5)\n",
    "print(p1)"
   ]
  },
  {
   "cell_type": "code",
   "execution_count": 18,
   "id": "b23e5a8c",
   "metadata": {},
   "outputs": [
    {
     "data": {
      "text/plain": [
       "float"
      ]
     },
     "execution_count": 18,
     "metadata": {},
     "output_type": "execute_result"
    }
   ],
   "source": [
    "type(p1.age)"
   ]
  },
  {
   "cell_type": "code",
   "execution_count": null,
   "id": "e7574c8b",
   "metadata": {},
   "outputs": [],
   "source": []
  },
  {
   "cell_type": "markdown",
   "id": "e2341cf3",
   "metadata": {},
   "source": [
    "# Python Inheritance\n",
    "\n",
    "#### Inheritance allow us to define a class that inherits all the methods and properties from another class.\n",
    "\n",
    "  ####       Parent class(Super class) is the class being inherited from,also called base class.\n",
    "  ####       Child class (Sub class) is the class that inherits from another class , also called derived class.\n",
    "  \n",
    "  \n",
    "  #### Define a superclass\n",
    "  \n",
    "  ####     class super_class:\n",
    "  ####           # attributes and method of definition\n",
    "  \n",
    "  \n",
    "  #### Inheritance\n",
    "  \n",
    "  ####    class sub_class(super_class):\n",
    "  ####            # attributes and method of super_class\n",
    "  ####            # attributes and method of sub_class"
   ]
  },
  {
   "cell_type": "code",
   "execution_count": 20,
   "id": "d094562e",
   "metadata": {},
   "outputs": [
    {
     "name": "stdout",
     "output_type": "stream",
     "text": [
      "I can eat\n",
      "my name is  Rohu\n"
     ]
    }
   ],
   "source": [
    "class Animal:\n",
    "    # attributes and method of the parent class\n",
    "    name=\"\"\n",
    "    def eat(self):\n",
    "        print(\"I can eat\")\n",
    "        \n",
    "# inherit from Animal\n",
    "class Dog(Animal):\n",
    "    #new method in subclass\n",
    "    def display(self):\n",
    "        # access name attributes of superclass using self\n",
    "        print(\"my name is \", self.name)\n",
    "        \n",
    "# create an object of the subclass\n",
    "labrador=Dog()\n",
    "\n",
    "# access superclass attributes and method\n",
    "labrador.name=\"Rohu\"\n",
    "labrador.eat()\n",
    "\n",
    "# call subclass method\n",
    "labrador .display()"
   ]
  },
  {
   "cell_type": "markdown",
   "id": "7b235b04",
   "metadata": {},
   "source": [
    "# Task: inheritance with parent class Polygon"
   ]
  },
  {
   "cell_type": "code",
   "execution_count": 32,
   "id": "6457f33c",
   "metadata": {},
   "outputs": [
    {
     "name": "stdout",
     "output_type": "stream",
     "text": [
      "Enter side1 : 5\n",
      "Enter side2 : 6\n",
      "Enter side3 : 7\n",
      "side 1 is 5.0\n",
      "side 2 is 6.0\n",
      "side 3 is 7.0\n",
      "The area of the triangle is 14.70\n"
     ]
    }
   ],
   "source": [
    "class Polygon:\n",
    "    # Initializing the number of sides\n",
    "    def __init__ (self,no_of_sides):\n",
    "        self.n=no_of_sides\n",
    "        self.sides= [0 for i in range (no_of_sides)]\n",
    "     \n",
    "    def inputSides(self):\n",
    "        self.sides =[float(input(\"Enter side\"+str(i+1)+\" : \")) for i in range(self.n)]\n",
    "        \n",
    "    # method to display the length of each side of the polygon\n",
    "    def dispSides(self):\n",
    "        for i in range(self.n):\n",
    "            print(\"side\",i+1,\"is\",self.sides[i])\n",
    "         \n",
    "\n",
    "class Triangle(Polygon):\n",
    "    # Initializing the number of sides of the triangle to 3 by \n",
    "    # calling the __init__ method of the polygon class\n",
    "    def __init__(self):\n",
    "        Polygon.__init__(self,3)\n",
    "      \n",
    "    def findArea(self):\n",
    "        a,b,c=self.sides\n",
    "        # calculate the semi-perimeter\n",
    "        s=(a+b+c)/2\n",
    "        # Using heron's formula to calculate the area of the triangle\n",
    "        area=(s*(s-a)*(s-b)*(s-c))**0.5\n",
    "        print(\"The area of the triangle is %0.2f\" % area)\n",
    "        \n",
    "# creating an instance of the triangle class\n",
    "t= Triangle()\n",
    "\n",
    "# prompting the user to enter the sides of the trianlge\n",
    "t.inputSides()\n",
    "\n",
    "# displaying the sides of the triangle\n",
    "t.dispSides()\n",
    "\n",
    "# calculating and printing the area of the triangle\n",
    "t.findArea()"
   ]
  },
  {
   "cell_type": "code",
   "execution_count": 3,
   "id": "a4bb623f",
   "metadata": {},
   "outputs": [
    {
     "name": "stdout",
     "output_type": "stream",
     "text": [
      "Enter side1 : 5\n",
      "Enter side2 : 5\n",
      "Enter side3 : 5\n",
      "Enter side4 : 5\n",
      "side 1 is 5.0\n",
      "side 2 is 5.0\n",
      "side 3 is 5.0\n",
      "side 4 is 5.0\n",
      "The area of the square is 25.00\n"
     ]
    }
   ],
   "source": [
    "class Polygon:\n",
    "    def __init__ (self,no_of_sides):\n",
    "        self.n=no_of_sides\n",
    "        self.sides= [0 for i in range (no_of_sides)]\n",
    "     \n",
    "    def inputSides1(self):\n",
    "        self.sides =[float(input(\"Enter side\"+str(i+1)+\" : \")) for i in range(self.n)]\n",
    "\n",
    "    def dispSides1(self):\n",
    "        for i in range(self.n):\n",
    "            print(\"side\",i+1,\"is\",self.sides[i])\n",
    "         \n",
    "\n",
    "class Square(Polygon):\n",
    "\n",
    "    def __init__(self):\n",
    "        Polygon.__init__(self,4)\n",
    "      \n",
    "    def findArea1(self):\n",
    "        a,b,c,d=self.sides\n",
    "        area= a*b\n",
    "        print(\"The area of the square is %0.2f\" % area)\n",
    "\n",
    "S= Square()\n",
    "\n",
    "S.inputSides1()\n",
    "\n",
    "S.dispSides1()\n",
    "\n",
    "S.findArea1()"
   ]
  },
  {
   "cell_type": "code",
   "execution_count": null,
   "id": "13617222",
   "metadata": {},
   "outputs": [],
   "source": []
  },
  {
   "cell_type": "markdown",
   "id": "84597408",
   "metadata": {},
   "source": [
    "# Polymorphism"
   ]
  },
  {
   "cell_type": "markdown",
   "id": "71418370",
   "metadata": {},
   "source": [
    "## The super() method in python inheritance\n",
    "#### Previously we saw that the same method in the subclass overrides the method in the superclass.\n",
    "#### however, if we need to access the superclass method from the subclass,we use the super() method."
   ]
  },
  {
   "cell_type": "code",
   "execution_count": 1,
   "id": "7afa1ba6",
   "metadata": {},
   "outputs": [
    {
     "name": "stdout",
     "output_type": "stream",
     "text": [
      "I can eat\n",
      "I like to eat bones\n"
     ]
    }
   ],
   "source": [
    "class Animal:\n",
    "    name=\"\"\n",
    "    def eat(self):\n",
    "        print(\"I can eat\")\n",
    "        \n",
    "# inherit from Animal \n",
    "class Dog(Animal):\n",
    "    # override eat() method\n",
    "    def eat(self):\n",
    "        # call the  eat () method of the superclass using super()\n",
    "        super().eat()\n",
    "        print(\"I like to eat bones\")\n",
    " \n",
    "# create an object of the subclass\n",
    "labrador=Dog()\n",
    "\n",
    "labrador.eat()"
   ]
  },
  {
   "cell_type": "markdown",
   "id": "2e8a8283",
   "metadata": {},
   "source": [
    "# Multipal Inheritance"
   ]
  },
  {
   "cell_type": "code",
   "execution_count": 3,
   "id": "2588198c",
   "metadata": {},
   "outputs": [
    {
     "name": "stdout",
     "output_type": "stream",
     "text": [
      "Mammals can give direct birth.\n",
      "Winged animals can flap.\n"
     ]
    }
   ],
   "source": [
    "class Mammal:\n",
    "    def mammal_info(self):\n",
    "        print(\"Mammals can give direct birth.\")\n",
    "        \n",
    "class WingedAnimal:\n",
    "    def winged_animal_info(self):\n",
    "        print(\"Winged animals can flap.\")\n",
    "class Bat(Mammal,WingedAnimal):\n",
    "    pass\n",
    "# create an object of bat class\n",
    "b1=Bat()\n",
    "\n",
    "b1.mammal_info()\n",
    "b1.winged_animal_info()\n",
    "    "
   ]
  },
  {
   "cell_type": "markdown",
   "id": "b306fc74",
   "metadata": {},
   "source": [
    "# Data abstraction"
   ]
  },
  {
   "cell_type": "code",
   "execution_count": 15,
   "id": "9d40c485",
   "metadata": {},
   "outputs": [
    {
     "name": "stdout",
     "output_type": "stream",
     "text": [
      "Area:78.5\n",
      "Area:24\n"
     ]
    }
   ],
   "source": [
    "from abc import ABC,abstractmethod\n",
    "\n",
    "class Shape(ABC):    \n",
    "    @abstractmethod\n",
    "    def area(self):\n",
    "        pass\n",
    "\n",
    "class Circle(Shape):\n",
    "    def __init__(self,radius):\n",
    "        self.radius=radius\n",
    "        \n",
    "    def area(self):\n",
    "        return 3.14 * self.radius*self.radius\n",
    "    \n",
    "class Rectangle(Shape):\n",
    "    def __init__(self,width,height):\n",
    "        self.width=width\n",
    "        self.height=height\n",
    "        \n",
    "    def area(self):\n",
    "        return self.width * self.height\n",
    "    \n",
    "circle = Circle(5)\n",
    "rectangle=Rectangle(4,6)\n",
    "\n",
    "shapes_list=[circle,rectangle]\n",
    "\n",
    "for shape in shapes_list:\n",
    "    print(f\"Area:{shape.area()}\")"
   ]
  },
  {
   "cell_type": "code",
   "execution_count": null,
   "id": "9f843909",
   "metadata": {},
   "outputs": [],
   "source": []
  }
 ],
 "metadata": {
  "kernelspec": {
   "display_name": "Python 3 (ipykernel)",
   "language": "python",
   "name": "python3"
  },
  "language_info": {
   "codemirror_mode": {
    "name": "ipython",
    "version": 3
   },
   "file_extension": ".py",
   "mimetype": "text/x-python",
   "name": "python",
   "nbconvert_exporter": "python",
   "pygments_lexer": "ipython3",
   "version": "3.11.5"
  }
 },
 "nbformat": 4,
 "nbformat_minor": 5
}
