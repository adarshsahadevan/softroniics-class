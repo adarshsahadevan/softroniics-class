{
 "cells": [
  {
   "cell_type": "markdown",
   "id": "e557fa68",
   "metadata": {},
   "source": [
    "# 1) sum of array except self"
   ]
  },
  {
   "cell_type": "code",
   "execution_count": 2,
   "id": "bb0be625",
   "metadata": {},
   "outputs": [
    {
     "name": "stdout",
     "output_type": "stream",
     "text": [
      "4\n",
      "4 3 2 10\n",
      "['4', '3', '2', '10']\n",
      "[15, 16, 17, 9]\n"
     ]
    }
   ],
   "source": [
    "n=int(input())\n",
    "array=input().split()\n",
    "print(array)\n",
    "\n",
    "n_array=[]\n",
    "for i in array:\n",
    "    I=int(i) # coverting each element of array into integer.\n",
    "    n_array.append(I)\n",
    "\n",
    "\n",
    "n1_array=[] \n",
    "for i in n_array:\n",
    "    sum_=sum(n_array)\n",
    "    x=sum_-i\n",
    "    n1_array.append(x)\n",
    "print(n1_array)"
   ]
  },
  {
   "cell_type": "code",
   "execution_count": 9,
   "id": "0575a633",
   "metadata": {},
   "outputs": [
    {
     "name": "stdout",
     "output_type": "stream",
     "text": [
      "Enter the number of elements in the array: 4\n",
      "4\n",
      "3\n",
      "2\n",
      "10\n",
      "[15, 16, 17, 9]\n"
     ]
    }
   ],
   "source": [
    "# OR\n",
    "def calculate_output(nums):\n",
    "    total_sum = sum(nums)  # Calculate the total sum of all elements in nums\n",
    "    output = [total_sum - num for num in nums]  # Subtract each num from the total sum\n",
    "    return output\n",
    "\n",
    "# Input\n",
    "n = int(input(\"Enter the number of elements in the array: \"))\n",
    "nums = []\n",
    "for _ in range(n):\n",
    "    nums.append(int(input()))\n",
    "\n",
    "# Calculate the output\n",
    "result = calculate_output(nums)\n",
    "\n",
    "# Print the resultant array\n",
    "print(result)"
   ]
  },
  {
   "cell_type": "markdown",
   "id": "09c01959",
   "metadata": {},
   "source": [
    "# 2) Ascending and Descending sort Halves"
   ]
  },
  {
   "cell_type": "code",
   "execution_count": 13,
   "id": "c355f266",
   "metadata": {},
   "outputs": [
    {
     "name": "stdout",
     "output_type": "stream",
     "text": [
      "1 3 4 7 90 78 67 45 10 "
     ]
    }
   ],
   "source": [
    "array=[3,10,67,4,90,1,78,45,7]\n",
    "array.sort() \n",
    "n = len(array)\n",
    "for i in range(n // 2):\n",
    "    print(array[i], end=\" \")\n",
    "for j in range(n-1,n // 2-1,-1):\n",
    "    print(array[j], end=\" \")"
   ]
  },
  {
   "cell_type": "code",
   "execution_count": 6,
   "id": "be16f517",
   "metadata": {},
   "outputs": [
    {
     "name": "stdout",
     "output_type": "stream",
     "text": [
      "10 34 45 90 87 67 "
     ]
    }
   ],
   "source": [
    "array1=[45,67,90,34,87,10]\n",
    "array1.sort() \n",
    "n = len(array1)\n",
    "for i in range(n // 2):\n",
    "    print(array1[i], end=\" \")\n",
    "for j in range(n-1, n // 2 - 1, -1):\n",
    "    print(array1[j], end=\" \")"
   ]
  },
  {
   "cell_type": "code",
   "execution_count": null,
   "id": "fbb730d6",
   "metadata": {},
   "outputs": [],
   "source": []
  },
  {
   "cell_type": "code",
   "execution_count": null,
   "id": "25d8599d",
   "metadata": {},
   "outputs": [],
   "source": []
  }
 ],
 "metadata": {
  "kernelspec": {
   "display_name": "Python 3 (ipykernel)",
   "language": "python",
   "name": "python3"
  },
  "language_info": {
   "codemirror_mode": {
    "name": "ipython",
    "version": 3
   },
   "file_extension": ".py",
   "mimetype": "text/x-python",
   "name": "python",
   "nbconvert_exporter": "python",
   "pygments_lexer": "ipython3",
   "version": "3.11.5"
  }
 },
 "nbformat": 4,
 "nbformat_minor": 5
}
